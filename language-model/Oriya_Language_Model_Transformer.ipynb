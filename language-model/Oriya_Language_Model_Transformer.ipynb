{
 "cells": [
  {
   "cell_type": "code",
   "execution_count": 1,
   "metadata": {},
   "outputs": [],
   "source": [
    "%reload_ext autoreload\n",
    "%autoreload 2\n",
    "%matplotlib inline"
   ]
  },
  {
   "cell_type": "code",
   "execution_count": 2,
   "metadata": {},
   "outputs": [],
   "source": [
    "from fastai.text import *\n",
    "import numpy as np\n",
    "from sklearn.model_selection import train_test_split\n",
    "import pickle\n",
    "import sentencepiece as spm"
   ]
  },
  {
   "cell_type": "code",
   "execution_count": 3,
   "metadata": {},
   "outputs": [
    {
     "data": {
      "text/plain": [
       "('1.0.57', '1.1.0')"
      ]
     },
     "execution_count": 3,
     "metadata": {},
     "output_type": "execute_result"
    }
   ],
   "source": [
    "import fastai, torch\n",
    "fastai.__version__ , torch.__version__"
   ]
  },
  {
   "cell_type": "code",
   "execution_count": 4,
   "metadata": {},
   "outputs": [],
   "source": [
    "torch.cuda.set_device(0)"
   ]
  },
  {
   "cell_type": "code",
   "execution_count": 5,
   "metadata": {},
   "outputs": [],
   "source": [
    "path = Path('/home/gaurav/PycharmProjects/nlp-for-odia/language-model')"
   ]
  },
  {
   "cell_type": "code",
   "execution_count": 6,
   "metadata": {},
   "outputs": [],
   "source": [
    "from inltk.tokenizer import OriyaTokenizer"
   ]
  },
  {
   "cell_type": "code",
   "execution_count": 7,
   "metadata": {},
   "outputs": [
    {
     "data": {
      "text/plain": [
       "inltk.tokenizer.OriyaTokenizer"
      ]
     },
     "execution_count": 7,
     "metadata": {},
     "output_type": "execute_result"
    }
   ],
   "source": [
    "OriyaTokenizer"
   ]
  },
  {
   "cell_type": "code",
   "execution_count": 8,
   "metadata": {},
   "outputs": [],
   "source": [
    "# class OriyaTokenizer(BaseTokenizer):\n",
    "#     def __init__(self, lang:str):\n",
    "#         self.lang = lang\n",
    "#         self.sp = spm.SentencePieceProcessor()\n",
    "#         self.sp.Load(str(path/\"../tokenizer/oriya_lm.model\"))\n",
    "        \n",
    "#     def tokenizer(self, t:str) -> List[str]:\n",
    "#         return self.sp.EncodeAsPieces(t)"
   ]
  },
  {
   "cell_type": "code",
   "execution_count": 9,
   "metadata": {},
   "outputs": [],
   "source": [
    "sp = spm.SentencePieceProcessor()\n",
    "sp.Load(str(path/\"../tokenizer/oriya_lm.model\"))\n",
    "itos = [sp.IdToPiece(int(i)) for i in range(15000)]"
   ]
  },
  {
   "cell_type": "code",
   "execution_count": 10,
   "metadata": {},
   "outputs": [
    {
     "data": {
      "text/plain": [
       "['<unk>',\n",
       " '<s>',\n",
       " '</s>',\n",
       " '▁।',\n",
       " '▁',\n",
       " ',',\n",
       " 'ରେ',\n",
       " 'ର',\n",
       " '▁ଓ',\n",
       " '.',\n",
       " 'କୁ',\n",
       " '▁ଏହି',\n",
       " '▁ଏକ',\n",
       " '▁ସେ',\n",
       " '।',\n",
       " 'ରୁ',\n",
       " '▁ଏହା',\n",
       " '▁କରିଥିଲେ',\n",
       " 'ଙ୍କ',\n",
       " '▁q']"
      ]
     },
     "execution_count": 10,
     "metadata": {},
     "output_type": "execute_result"
    }
   ],
   "source": [
    "itos[:20]"
   ]
  },
  {
   "cell_type": "code",
   "execution_count": 11,
   "metadata": {},
   "outputs": [],
   "source": [
    "# 15,000 is the vocab size that we chose in sentencepiece\n",
    "oriya_vocab = Vocab(itos)"
   ]
  },
  {
   "cell_type": "code",
   "execution_count": 12,
   "metadata": {},
   "outputs": [],
   "source": [
    "tokenizer = Tokenizer(tok_func=OriyaTokenizer, lang='or')"
   ]
  },
  {
   "cell_type": "code",
   "execution_count": 13,
   "metadata": {},
   "outputs": [
    {
     "data": {
      "text/plain": [
       "['xxunk',\n",
       " 'xxpad',\n",
       " 'xxbos',\n",
       " 'xxeos',\n",
       " 'xxfld',\n",
       " 'xxmaj',\n",
       " 'xxup',\n",
       " 'xxrep',\n",
       " 'xxwrep']"
      ]
     },
     "execution_count": 13,
     "metadata": {},
     "output_type": "execute_result"
    }
   ],
   "source": [
    "tokenizer.special_cases"
   ]
  },
  {
   "cell_type": "code",
   "execution_count": 14,
   "metadata": {},
   "outputs": [],
   "source": [
    "data_lm = TextLMDataBunch.from_folder(path=path/'transformer', tokenizer=tokenizer, vocab=oriya_vocab)"
   ]
  },
  {
   "cell_type": "code",
   "execution_count": 15,
   "metadata": {},
   "outputs": [
    {
     "data": {
      "text/plain": [
       "64"
      ]
     },
     "execution_count": 15,
     "metadata": {},
     "output_type": "execute_result"
    }
   ],
   "source": [
    "data_lm.batch_size"
   ]
  },
  {
   "cell_type": "code",
   "execution_count": 16,
   "metadata": {},
   "outputs": [],
   "source": [
    "data_lm.save()"
   ]
  },
  {
   "cell_type": "code",
   "execution_count": 17,
   "metadata": {},
   "outputs": [
    {
     "data": {
      "text/html": [
       "<table border=\"1\" class=\"dataframe\">\n",
       "  <thead>\n",
       "    <tr style=\"text-align: right;\">\n",
       "      <th>idx</th>\n",
       "      <th>text</th>\n",
       "    </tr>\n",
       "  </thead>\n",
       "  <tbody>\n",
       "    <tr>\n",
       "      <td>0</td>\n",
       "      <td>▁। ▁ତାଙ୍କ ▁ପୁଅ ▁ଲଳିତ ▁ମାନସିଂହ ▁ଜଣେ ▁ଭାରତୀୟ ▁ପ୍ରଶାସନିକ ▁ଅଧିକାରୀ ▁ତଥା ▁ଭାରତର ▁ପ୍ରାକ୍ତନ ▁ବୈଦେଶିକ ▁ସଚିବ ▁ଅଟନ୍ତି ▁। ▁x x b os ▁ବିବାହ ▁ହେଉଛି ▁୨୦୦୬ ▁ମସିହାରେ ▁ମୁକ୍ତିଲାଭ ▁କରିଥିବା ▁ଏକ ▁ପ୍ରେମ ▁ପ୍ରସଙ୍ଗ ▁ଯୁକ୍ତ ▁ତଥା ▁ସାମାଜିକ ▁ସଂସ୍କାର ଧର୍ମୀ ▁ହିନ୍ଦୀ ▁ଚଳଚ୍ଚିତ୍ର ▁। ▁ଚଳଚ୍ଚିତ୍ରର ▁କାହାଣୀ ର ▁ଲେଖକ ▁ତଥା ▁ଚିତ୍ରନାଟ୍ୟ ▁ନିର୍ଦ୍ଦେଶକ ▁ହେଉଛନ୍ତି ▁ସୂ ର ଜ ▁ଆର୍ ▁ବାର ଜାତ ୍ୟା ▁। ▁ଚଳଚ୍ଚିତ୍ରର ▁ମୁଖ୍ୟ ▁ଭୂମିକାରେ ▁ଅଭିନୟ ▁କରିଛନ୍ତି ▁ଅଭିନେତା ▁ଶାହିଦ ▁କପୁର ▁ଏବଂ ▁ଅଭିନେତ୍ରୀ ▁ଅମୃତା ▁ରାଓ ▁। ▁ଅମୃତା ▁ରାଓଙ୍କ ▁ସହ ▁ଶାହିଦ</td>\n",
       "    </tr>\n",
       "    <tr>\n",
       "      <td>1</td>\n",
       "      <td>▁x x b os ▁ନାଶ ିକ ▁ଏକ ▁ଭାରତୀୟ ▁ପୌରପାଳିକା ▁ଅଟେ ▁। ▁ଏହା ▁ମହାରାଷ୍ଟ୍ରର ▁ନ ଶି କ୍ ▁ଜିଲ୍ଲାରେ ▁ଅବସ୍ଥିତ ▁। ▁୨୦୦୧ ▁ମସିହାର ▁ଭାରତୀୟ ▁ଜନଗଣନା ▁ଅନୁସାରେ , ▁ନାଶ ିକ ▁ସହରର ▁ମୋଟ ▁ଜନସଂଖ୍ୟା ▁୧୨ ୪୫ ୪ ▁ଅଟେ ▁। ▁ସେଥି ▁ମଧ୍ୟରୁ ▁୫୧ . ୧୮ % ▁ଜଣ ▁ପରୁଷ ▁ହୋଇଥିବା ▁ବେଳେ ▁୪୮ . ୮୨ % ▁ଜଣ ▁ନାରୀ ▁ଅଟନ୍ତି ▁। ▁ନାଶ ିକ ର ▁ସାକ୍ଷରତା ▁ହାର ▁୭୫ . ୨୪ % ▁ଅଟେ ▁। ▁ଏହା ▁ଜାତୀୟ ▁ହାର ▁ଠାରୁ ▁- ୧୦</td>\n",
       "    </tr>\n",
       "    <tr>\n",
       "      <td>2</td>\n",
       "      <td>ିଆ ମାନଙ୍କ ▁ ବିରୁଦ୍ଧରେ ▁ସେ ▁କାର୍ଯ୍ୟ ▁କରୁଥିଲେ ▁। ▁ଥରେ ▁ସେ ▁ମା ଫ ିଆ ମାନଙ୍କୁ ▁ଧରିବା ▁ପାଇଁ ▁ତୁର୍କୀ ▁ଯାଇଥିଲେ ▁। ▁ସେଠାରେ ▁ଅଜୟ , ▁ପ୍ରଶାନ୍ତ ି କୁ ▁ଭେଟି ଲା ▁। ▁ପ୍ରଶାନ୍ତ ି ▁ଅଜୟ ର ▁ଉପର ▁ଅଧିକାରୀ ଙ୍କର ▁ଝିଅ ▁ଥିଲା ▁। ▁ଅଜୟ ▁ତୁର୍କୀ ▁ଯାଇଥିବା ବେଳେ ▁ସେଠାରେ ▁ସେ ▁ନାୟକ ର ▁ଭାଇ କୁ ▁ଗିରଫ ▁କରି ▁ଭାରତ ▁ଆଣି ଦେଲା ▁। ▁ଏହାପରେ ▁ଶଙ୍କର ▁ନାରାୟଣ ▁୧୪ ▁ବର୍ଷ ▁ପରେ ▁କୋମା ରୁ ▁ବାହାରି ▁ଠିକ୍ ▁ହେଲେ ▁। ▁ତାଙ୍କୁ ▁ଏହିସବୁ ▁ପରିବର୍ତ୍ତନ ▁ବିଷୟରେ</td>\n",
       "    </tr>\n",
       "    <tr>\n",
       "      <td>3</td>\n",
       "      <td>’ ▁ଯୋଜନା ର ▁ମୂଳ ▁ଉଦ୍ଦେଶ୍ୟ ▁। ▁୨୦୧୫ ▁ମସିହାରେ ▁ନୂତନ ▁ଯା ଯା ବର ▁କୋଠା ▁ପ୍ରତିଷ୍ଠା ▁ପାଇଁ ▁୧୪ ୫ କୋଟି ▁ଟଙ୍କା ▁ଆକଳନ ▁ହୋଇଥିଲା ▁। ▁ଗୋଟିଏ ▁ପର୍ଯ୍ୟଟନ ▁ସ୍ଥଳୀ ରୁ ▁ଆଉ ▁ଏକ ▁ପର୍ଯ୍ୟଟନ ▁ସ୍ଥଳୀ ▁ବା ▁ଦୂର - ଦୁ ର ାନ୍ତ ରେ ▁ଥିବା ▁ପର୍ଯ୍ୟଟନ ▁ସ୍ଥଳୀ ▁ଗୁଡ଼ିକ ରେ ▁ପହଞ୍ଚିବା ▁ବାଟରେ ▁ଚା , ପାନ , ମ ୃ ଦୁ ▁ପାନୀୟ ▁ଓ ▁ଖାଦ୍ୟ ▁ତଥା ▁ସାମୟିକ ▁ବିଶ୍ରାମ ର ▁ସୁବିଧା ▁ପାଇଁ ▁‘ ଯା ଯା ବର ’ ▁ବ୍ରାଣ୍ଡ ରେ ▁୩୩ ଟି ▁ପାନ୍ଥ</td>\n",
       "    </tr>\n",
       "    <tr>\n",
       "      <td>4</td>\n",
       "      <td>▁ଫେରିବା କୁ ▁ହିଁ ▁ପଡି ଲା ▁| ▁ମାସ େ ▁ପରେ ▁ହିଁ ▁ଅଗ ୍ୟା ଁ ତ ▁ରୋଗରେ ▁ତାଙ୍କ ▁ପିତାଙ୍କ ▁ମୃତ୍ୟୁ ▁ଘଟିଲା ▁| ▁ସେହି ▁ବର୍ଷ ▁ସେ ▁ନିଜ ▁ପୂର୍ବ ▁ବିଦ୍ୟାଳୟରେ ▁କିଛି ▁ସମୟ ▁ଅଧ୍ୟାପନା ▁କରିଥିଲେ ▁| ▁ତେ ▁୧୮୮୦ ରେ ▁ତାଙ୍କ ▁ଦୁଇ ▁ଜଣ ▁ମାମୁଁ ଙ୍କ ▁ବଦାନ୍ୟ ତା ରୁ ▁ସେ ▁ଉଚ୍ଚ ▁ଶିକ୍ଷା ▁ଲାଗି ▁ପ୍ରା ଗ୍ ▁ଗଲେ , ▁କିନ୍ତୁ ▁ଦୁର୍ଭାଗ୍ୟ ବଶତଃ ▁ସେ ▁ପହଞ୍ଚିବା ▁ବେଳେ ▁ନାଁ ଲେଖା ର ▁ସମୟ ▁ସରି ଯାଇଥିଲା ▁| ▁ସେ ▁ମଧ୍ୟ ▁ଦୁଇ ▁ଜରୁରୀ ▁ବିଷୟ ▁ଗ୍ରୀକ୍ ▁ଭାଷା</td>\n",
       "    </tr>\n",
       "  </tbody>\n",
       "</table>"
      ],
      "text/plain": [
       "<IPython.core.display.HTML object>"
      ]
     },
     "metadata": {},
     "output_type": "display_data"
    }
   ],
   "source": [
    "data_lm.show_batch()"
   ]
  },
  {
   "cell_type": "code",
   "execution_count": 18,
   "metadata": {},
   "outputs": [
    {
     "data": {
      "text/plain": [
       "15000"
      ]
     },
     "execution_count": 18,
     "metadata": {},
     "output_type": "execute_result"
    }
   ],
   "source": [
    "len(data_lm.vocab.itos)"
   ]
  },
  {
   "cell_type": "code",
   "execution_count": 19,
   "metadata": {},
   "outputs": [],
   "source": [
    "learn = language_model_learner(data_lm, TransformerXL, pretrained=False)"
   ]
  },
  {
   "cell_type": "code",
   "execution_count": 20,
   "metadata": {},
   "outputs": [
    {
     "data": {
      "text/plain": [
       "20"
      ]
     },
     "execution_count": 20,
     "metadata": {},
     "output_type": "execute_result"
    }
   ],
   "source": [
    "gc.collect()"
   ]
  },
  {
   "cell_type": "code",
   "execution_count": 21,
   "metadata": {},
   "outputs": [
    {
     "data": {
      "text/html": [],
      "text/plain": [
       "<IPython.core.display.HTML object>"
      ]
     },
     "metadata": {},
     "output_type": "display_data"
    },
    {
     "name": "stdout",
     "output_type": "stream",
     "text": [
      "LR Finder is complete, type {learner_name}.recorder.plot() to see the graph.\n"
     ]
    }
   ],
   "source": [
    "learn.lr_find()"
   ]
  },
  {
   "cell_type": "code",
   "execution_count": 22,
   "metadata": {},
   "outputs": [
    {
     "data": {
      "image/png": "[encoded data removed]",
      "text/plain": [
       "<Figure size 432x288 with 1 Axes>"
      ]
     },
     "metadata": {
      "needs_background": "light"
     },
     "output_type": "display_data"
    }
   ],
   "source": [
    "learn.recorder.plot()"
   ]
  },
  {
   "cell_type": "code",
   "execution_count": 23,
   "metadata": {},
   "outputs": [
    {
     "data": {
      "text/html": [
       "<table border=\"1\" class=\"dataframe\">\n",
       "  <thead>\n",
       "    <tr style=\"text-align: left;\">\n",
       "      <th>epoch</th>\n",
       "      <th>train_loss</th>\n",
       "      <th>valid_loss</th>\n",
       "      <th>accuracy</th>\n",
       "      <th>time</th>\n",
       "    </tr>\n",
       "  </thead>\n",
       "  <tbody>\n",
       "    <tr>\n",
       "      <td>0</td>\n",
       "      <td>6.618229</td>\n",
       "      <td>6.520764</td>\n",
       "      <td>0.153913</td>\n",
       "      <td>05:40</td>\n",
       "    </tr>\n",
       "    <tr>\n",
       "      <td>1</td>\n",
       "      <td>5.773976</td>\n",
       "      <td>5.705898</td>\n",
       "      <td>0.198334</td>\n",
       "      <td>05:43</td>\n",
       "    </tr>\n",
       "    <tr>\n",
       "      <td>2</td>\n",
       "      <td>5.343286</td>\n",
       "      <td>5.315041</td>\n",
       "      <td>0.224747</td>\n",
       "      <td>05:43</td>\n",
       "    </tr>\n",
       "    <tr>\n",
       "      <td>3</td>\n",
       "      <td>5.000231</td>\n",
       "      <td>5.020288</td>\n",
       "      <td>0.239873</td>\n",
       "      <td>05:43</td>\n",
       "    </tr>\n",
       "    <tr>\n",
       "      <td>4</td>\n",
       "      <td>4.754064</td>\n",
       "      <td>4.773448</td>\n",
       "      <td>0.258383</td>\n",
       "      <td>05:43</td>\n",
       "    </tr>\n",
       "    <tr>\n",
       "      <td>5</td>\n",
       "      <td>4.603960</td>\n",
       "      <td>4.565800</td>\n",
       "      <td>0.274974</td>\n",
       "      <td>05:42</td>\n",
       "    </tr>\n",
       "    <tr>\n",
       "      <td>6</td>\n",
       "      <td>4.368167</td>\n",
       "      <td>4.390756</td>\n",
       "      <td>0.295228</td>\n",
       "      <td>05:43</td>\n",
       "    </tr>\n",
       "    <tr>\n",
       "      <td>7</td>\n",
       "      <td>4.190627</td>\n",
       "      <td>4.236928</td>\n",
       "      <td>0.312387</td>\n",
       "      <td>05:42</td>\n",
       "    </tr>\n",
       "    <tr>\n",
       "      <td>8</td>\n",
       "      <td>4.056720</td>\n",
       "      <td>4.076877</td>\n",
       "      <td>0.332570</td>\n",
       "      <td>05:42</td>\n",
       "    </tr>\n",
       "    <tr>\n",
       "      <td>9</td>\n",
       "      <td>3.767288</td>\n",
       "      <td>3.957505</td>\n",
       "      <td>0.348424</td>\n",
       "      <td>05:42</td>\n",
       "    </tr>\n",
       "    <tr>\n",
       "      <td>10</td>\n",
       "      <td>3.675135</td>\n",
       "      <td>3.841644</td>\n",
       "      <td>0.365323</td>\n",
       "      <td>05:43</td>\n",
       "    </tr>\n",
       "    <tr>\n",
       "      <td>11</td>\n",
       "      <td>3.369438</td>\n",
       "      <td>3.713492</td>\n",
       "      <td>0.383647</td>\n",
       "      <td>05:42</td>\n",
       "    </tr>\n",
       "    <tr>\n",
       "      <td>12</td>\n",
       "      <td>3.235157</td>\n",
       "      <td>3.602571</td>\n",
       "      <td>0.400569</td>\n",
       "      <td>05:42</td>\n",
       "    </tr>\n",
       "    <tr>\n",
       "      <td>13</td>\n",
       "      <td>3.097590</td>\n",
       "      <td>3.513947</td>\n",
       "      <td>0.416713</td>\n",
       "      <td>05:42</td>\n",
       "    </tr>\n",
       "    <tr>\n",
       "      <td>14</td>\n",
       "      <td>3.080640</td>\n",
       "      <td>3.436533</td>\n",
       "      <td>0.429093</td>\n",
       "      <td>05:42</td>\n",
       "    </tr>\n",
       "    <tr>\n",
       "      <td>15</td>\n",
       "      <td>2.918936</td>\n",
       "      <td>3.375366</td>\n",
       "      <td>0.440848</td>\n",
       "      <td>05:43</td>\n",
       "    </tr>\n",
       "    <tr>\n",
       "      <td>16</td>\n",
       "      <td>2.805038</td>\n",
       "      <td>3.321252</td>\n",
       "      <td>0.449460</td>\n",
       "      <td>05:42</td>\n",
       "    </tr>\n",
       "    <tr>\n",
       "      <td>17</td>\n",
       "      <td>2.641285</td>\n",
       "      <td>3.302403</td>\n",
       "      <td>0.454867</td>\n",
       "      <td>05:42</td>\n",
       "    </tr>\n",
       "    <tr>\n",
       "      <td>18</td>\n",
       "      <td>2.548434</td>\n",
       "      <td>3.289357</td>\n",
       "      <td>0.457059</td>\n",
       "      <td>05:42</td>\n",
       "    </tr>\n",
       "    <tr>\n",
       "      <td>19</td>\n",
       "      <td>2.589126</td>\n",
       "      <td>3.289095</td>\n",
       "      <td>0.457628</td>\n",
       "      <td>05:42</td>\n",
       "    </tr>\n",
       "  </tbody>\n",
       "</table>"
      ],
      "text/plain": [
       "<IPython.core.display.HTML object>"
      ]
     },
     "metadata": {},
     "output_type": "display_data"
    },
    {
     "name": "stdout",
     "output_type": "stream",
     "text": [
      "Better model found at epoch 0 with accuracy value: 0.15391284227371216.\n",
      "Better model found at epoch 1 with accuracy value: 0.19833433628082275.\n",
      "Better model found at epoch 2 with accuracy value: 0.22474715113639832.\n",
      "Better model found at epoch 3 with accuracy value: 0.23987296223640442.\n",
      "Better model found at epoch 4 with accuracy value: 0.2583828270435333.\n",
      "Better model found at epoch 5 with accuracy value: 0.274973601102829.\n",
      "Better model found at epoch 6 with accuracy value: 0.2952282428741455.\n",
      "Better model found at epoch 7 with accuracy value: 0.3123874068260193.\n",
      "Better model found at epoch 8 with accuracy value: 0.33256977796554565.\n",
      "Better model found at epoch 9 with accuracy value: 0.3484242260456085.\n",
      "Better model found at epoch 10 with accuracy value: 0.36532264947891235.\n",
      "Better model found at epoch 11 with accuracy value: 0.3836473822593689.\n",
      "Better model found at epoch 12 with accuracy value: 0.4005688726902008.\n",
      "Better model found at epoch 13 with accuracy value: 0.4167134463787079.\n",
      "Better model found at epoch 14 with accuracy value: 0.4290931522846222.\n",
      "Better model found at epoch 15 with accuracy value: 0.44084835052490234.\n",
      "Better model found at epoch 16 with accuracy value: 0.44945985078811646.\n",
      "Better model found at epoch 17 with accuracy value: 0.454867422580719.\n",
      "Better model found at epoch 18 with accuracy value: 0.45705926418304443.\n",
      "Better model found at epoch 19 with accuracy value: 0.45762771368026733.\n"
     ]
    }
   ],
   "source": [
    "learn.fit_one_cycle(20, 1e-3, callbacks=[callbacks.SaveModelCallback(learn, every='improvement', monitor='accuracy', name='model')])"
   ]
  },
  {
   "cell_type": "code",
   "execution_count": 25,
   "metadata": {},
   "outputs": [],
   "source": [
    "TEXT = \"ଚଳାଚଳ ପାଇଁ\"\n",
    "N_WORDS = 40\n",
    "N_SENTENCES = 2"
   ]
  },
  {
   "cell_type": "code",
   "execution_count": 26,
   "metadata": {},
   "outputs": [
    {
     "name": "stdout",
     "output_type": "stream",
     "text": [
      "ଚଳାଚଳ ପାଇଁ ▁ଏକ ▁ଭାରତୀୟ ▁ଭାରତୀୟ ▁ପୌରପାଳିକା ▁ଅଟେ ▁। ▁ଏହା ▁ମହାରାଷ୍ଟ୍ରର ▁ପୁନେ ▁ଜିଲ୍ଲାରେ ▁ଅବସ୍ଥିତ ▁। ▁ଚଳାଚଳ ର ▁ସୁବିଧା ▁ନିମନ୍ତେ ▁ଭାରତୀୟ ▁ବୈଦେଶିକ ▁ସେବା ରୁ ▁ଦୂରେଇ ▁ରହିବା କୁ ▁ହୁଏ ▁। ▁ଏହି ▁ବିଷୟ ▁ଭାରତୀୟ ▁ବାୟୁସେନା ର ▁ଏକ ▁ ସାମୁଦ୍ରିକ ▁ଉପକରଣ ▁। ▁ଏହା ▁ଭାରତୀୟ ▁ବାୟୁସେନା ର ▁ଏକ\n",
      "ଚଳାଚଳ ପାଇଁ ▁ବ୍ୟବହାର ▁ହେଉଥିବା ▁ଏକ ▁ପ୍ରକାର ▁ଜଳ ଦ୍ୱାରା ▁ସୃଷ୍ଟି ▁ହୁଏ ▁। ▁ଏହାକୁ ▁ଏକ ▁ସାଧାରଣ ▁ଜଳ ଜ ▁ଜଳ ▁ବୋଲି ▁କୁହାଯାଏ ▁। ▁ଏଥିରେ ▁ବାୟୁ ର ▁ଜଳ ▁ଓ ▁ବାୟୁ ର ▁ପରିମାଣ ▁ମଧ୍ୟ ▁ଅଧିକ ▁ହୋଇଥାଏ ▁। ▁ଏହା ▁ଭାରତର ▁ଏକ ▁ପ୍ରମୁଖ ▁ଜଳ ଜ ▁ଜଳ ▁ଜଳ ▁। ▁ଭାରତୀୟ\n"
     ]
    }
   ],
   "source": [
    "print(\"\\n\".join(learn.predict(TEXT, N_WORDS, temperature=0.5) for _ in range(N_SENTENCES)))"
   ]
  },
  {
   "cell_type": "code",
   "execution_count": 27,
   "metadata": {},
   "outputs": [
    {
     "data": {
      "text/plain": [
       "26.818581853462867"
      ]
     },
     "execution_count": 27,
     "metadata": {},
     "output_type": "execute_result"
    }
   ],
   "source": [
    "np.exp(3.289095)"
   ]
  },
  {
   "cell_type": "code",
   "execution_count": 28,
   "metadata": {},
   "outputs": [],
   "source": [
    "defaults.device = torch.device('cpu')\n",
    "learn.model.eval()\n",
    "learn.export()"
   ]
  },
  {
   "cell_type": "code",
   "execution_count": 29,
   "metadata": {},
   "outputs": [],
   "source": [
    "# Generating embedding vectors for visualization"
   ]
  },
  {
   "cell_type": "code",
   "execution_count": 30,
   "metadata": {},
   "outputs": [
    {
     "data": {
      "text/plain": [
       "PosixPath('/home/gaurav/PycharmProjects/nlp-for-odia/language-model')"
      ]
     },
     "execution_count": 30,
     "metadata": {},
     "output_type": "execute_result"
    }
   ],
   "source": [
    "path"
   ]
  },
  {
   "cell_type": "code",
   "execution_count": 12,
   "metadata": {},
   "outputs": [],
   "source": [
    "# defaults.device = torch.device('cpu')"
   ]
  },
  {
   "cell_type": "code",
   "execution_count": 14,
   "metadata": {},
   "outputs": [],
   "source": [
    "# learn = load_learner(path / 'OriyaDataset/')"
   ]
  },
  {
   "cell_type": "code",
   "execution_count": 31,
   "metadata": {},
   "outputs": [],
   "source": [
    "encoder = get_model(learn.model)[0]"
   ]
  },
  {
   "cell_type": "code",
   "execution_count": 32,
   "metadata": {},
   "outputs": [
    {
     "data": {
      "text/plain": [
       "torch.Size([15000, 410])"
      ]
     },
     "execution_count": 32,
     "metadata": {},
     "output_type": "execute_result"
    }
   ],
   "source": [
    "encoder.state_dict()['encoder.weight'].shape"
   ]
  },
  {
   "cell_type": "code",
   "execution_count": 33,
   "metadata": {},
   "outputs": [],
   "source": [
    "embeddings = encoder.state_dict()['encoder.weight']"
   ]
  },
  {
   "cell_type": "code",
   "execution_count": 34,
   "metadata": {},
   "outputs": [],
   "source": [
    "embeddings = np.array(embeddings)"
   ]
  },
  {
   "cell_type": "code",
   "execution_count": 35,
   "metadata": {},
   "outputs": [
    {
     "data": {
      "text/plain": [
       "(410,)"
      ]
     },
     "execution_count": 35,
     "metadata": {},
     "output_type": "execute_result"
    }
   ],
   "source": [
    "embeddings[0].shape"
   ]
  },
  {
   "cell_type": "code",
   "execution_count": 36,
   "metadata": {},
   "outputs": [],
   "source": [
    "df = pd.DataFrame(embeddings)"
   ]
  },
  {
   "cell_type": "code",
   "execution_count": 37,
   "metadata": {},
   "outputs": [
    {
     "data": {
      "text/html": [
       "<div>\n",
       "<style scoped>\n",
       "    .dataframe tbody tr th:only-of-type {\n",
       "        vertical-align: middle;\n",
       "    }\n",
       "\n",
       "    .dataframe tbody tr th {\n",
       "        vertical-align: top;\n",
       "    }\n",
       "\n",
       "    .dataframe thead th {\n",
       "        text-align: right;\n",
       "    }\n",
       "</style>\n",
       "<table border=\"1\" class=\"dataframe\">\n",
       "  <thead>\n",
       "    <tr style=\"text-align: right;\">\n",
       "      <th></th>\n",
       "      <th>0</th>\n",
       "      <th>1</th>\n",
       "      <th>2</th>\n",
       "      <th>3</th>\n",
       "      <th>4</th>\n",
       "      <th>5</th>\n",
       "      <th>6</th>\n",
       "      <th>7</th>\n",
       "      <th>8</th>\n",
       "      <th>9</th>\n",
       "      <th>...</th>\n",
       "      <th>400</th>\n",
       "      <th>401</th>\n",
       "      <th>402</th>\n",
       "      <th>403</th>\n",
       "      <th>404</th>\n",
       "      <th>405</th>\n",
       "      <th>406</th>\n",
       "      <th>407</th>\n",
       "      <th>408</th>\n",
       "      <th>409</th>\n",
       "    </tr>\n",
       "  </thead>\n",
       "  <tbody>\n",
       "    <tr>\n",
       "      <td>0</td>\n",
       "      <td>-0.276469</td>\n",
       "      <td>0.148103</td>\n",
       "      <td>0.076447</td>\n",
       "      <td>0.197581</td>\n",
       "      <td>-0.164103</td>\n",
       "      <td>0.098220</td>\n",
       "      <td>-0.005452</td>\n",
       "      <td>0.413507</td>\n",
       "      <td>-0.083298</td>\n",
       "      <td>-0.017344</td>\n",
       "      <td>...</td>\n",
       "      <td>0.142507</td>\n",
       "      <td>-0.036731</td>\n",
       "      <td>-0.018054</td>\n",
       "      <td>0.011517</td>\n",
       "      <td>0.290613</td>\n",
       "      <td>-0.095372</td>\n",
       "      <td>-0.042910</td>\n",
       "      <td>-0.382316</td>\n",
       "      <td>-0.259149</td>\n",
       "      <td>-0.210937</td>\n",
       "    </tr>\n",
       "    <tr>\n",
       "      <td>1</td>\n",
       "      <td>0.011258</td>\n",
       "      <td>0.012085</td>\n",
       "      <td>-0.327177</td>\n",
       "      <td>-0.190794</td>\n",
       "      <td>0.199453</td>\n",
       "      <td>0.301151</td>\n",
       "      <td>0.210630</td>\n",
       "      <td>-0.192504</td>\n",
       "      <td>-0.297708</td>\n",
       "      <td>-0.332622</td>\n",
       "      <td>...</td>\n",
       "      <td>0.242023</td>\n",
       "      <td>0.041203</td>\n",
       "      <td>-0.310166</td>\n",
       "      <td>0.014573</td>\n",
       "      <td>0.181239</td>\n",
       "      <td>-0.040165</td>\n",
       "      <td>0.270503</td>\n",
       "      <td>0.191801</td>\n",
       "      <td>0.654827</td>\n",
       "      <td>-0.096098</td>\n",
       "    </tr>\n",
       "    <tr>\n",
       "      <td>2</td>\n",
       "      <td>0.016205</td>\n",
       "      <td>0.004489</td>\n",
       "      <td>-0.327294</td>\n",
       "      <td>-0.196442</td>\n",
       "      <td>0.195931</td>\n",
       "      <td>0.308338</td>\n",
       "      <td>0.220065</td>\n",
       "      <td>-0.201470</td>\n",
       "      <td>-0.301388</td>\n",
       "      <td>-0.321262</td>\n",
       "      <td>...</td>\n",
       "      <td>0.243367</td>\n",
       "      <td>0.050428</td>\n",
       "      <td>-0.316167</td>\n",
       "      <td>0.014523</td>\n",
       "      <td>0.200516</td>\n",
       "      <td>-0.035334</td>\n",
       "      <td>0.274699</td>\n",
       "      <td>0.203035</td>\n",
       "      <td>0.642391</td>\n",
       "      <td>-0.092943</td>\n",
       "    </tr>\n",
       "    <tr>\n",
       "      <td>3</td>\n",
       "      <td>-0.146666</td>\n",
       "      <td>0.353064</td>\n",
       "      <td>-0.371455</td>\n",
       "      <td>0.269509</td>\n",
       "      <td>-0.354880</td>\n",
       "      <td>0.030576</td>\n",
       "      <td>-0.080598</td>\n",
       "      <td>0.134785</td>\n",
       "      <td>0.034050</td>\n",
       "      <td>-0.195382</td>\n",
       "      <td>...</td>\n",
       "      <td>0.264589</td>\n",
       "      <td>0.074738</td>\n",
       "      <td>0.232390</td>\n",
       "      <td>-0.135569</td>\n",
       "      <td>-0.270693</td>\n",
       "      <td>0.190017</td>\n",
       "      <td>-0.265999</td>\n",
       "      <td>-0.238789</td>\n",
       "      <td>-0.308828</td>\n",
       "      <td>0.125515</td>\n",
       "    </tr>\n",
       "    <tr>\n",
       "      <td>4</td>\n",
       "      <td>-0.019545</td>\n",
       "      <td>-0.194475</td>\n",
       "      <td>0.320650</td>\n",
       "      <td>0.237257</td>\n",
       "      <td>-0.087813</td>\n",
       "      <td>-0.182603</td>\n",
       "      <td>-0.150361</td>\n",
       "      <td>0.095819</td>\n",
       "      <td>0.096298</td>\n",
       "      <td>0.210913</td>\n",
       "      <td>...</td>\n",
       "      <td>0.033817</td>\n",
       "      <td>0.044765</td>\n",
       "      <td>-0.090454</td>\n",
       "      <td>-0.093920</td>\n",
       "      <td>-0.238041</td>\n",
       "      <td>-0.024250</td>\n",
       "      <td>0.000492</td>\n",
       "      <td>-0.168707</td>\n",
       "      <td>-0.036155</td>\n",
       "      <td>0.149730</td>\n",
       "    </tr>\n",
       "  </tbody>\n",
       "</table>\n",
       "<p>5 rows × 410 columns</p>\n",
       "</div>"
      ],
      "text/plain": [
       "        0         1         2         3         4         5         6    \\\n",
       "0 -0.276469  0.148103  0.076447  0.197581 -0.164103  0.098220 -0.005452   \n",
       "1  0.011258  0.012085 -0.327177 -0.190794  0.199453  0.301151  0.210630   \n",
       "2  0.016205  0.004489 -0.327294 -0.196442  0.195931  0.308338  0.220065   \n",
       "3 -0.146666  0.353064 -0.371455  0.269509 -0.354880  0.030576 -0.080598   \n",
       "4 -0.019545 -0.194475  0.320650  0.237257 -0.087813 -0.182603 -0.150361   \n",
       "\n",
       "        7         8         9    ...       400       401       402       403  \\\n",
       "0  0.413507 -0.083298 -0.017344  ...  0.142507 -0.036731 -0.018054  0.011517   \n",
       "1 -0.192504 -0.297708 -0.332622  ...  0.242023  0.041203 -0.310166  0.014573   \n",
       "2 -0.201470 -0.301388 -0.321262  ...  0.243367  0.050428 -0.316167  0.014523   \n",
       "3  0.134785  0.034050 -0.195382  ...  0.264589  0.074738  0.232390 -0.135569   \n",
       "4  0.095819  0.096298  0.210913  ...  0.033817  0.044765 -0.090454 -0.093920   \n",
       "\n",
       "        404       405       406       407       408       409  \n",
       "0  0.290613 -0.095372 -0.042910 -0.382316 -0.259149 -0.210937  \n",
       "1  0.181239 -0.040165  0.270503  0.191801  0.654827 -0.096098  \n",
       "2  0.200516 -0.035334  0.274699  0.203035  0.642391 -0.092943  \n",
       "3 -0.270693  0.190017 -0.265999 -0.238789 -0.308828  0.125515  \n",
       "4 -0.238041 -0.024250  0.000492 -0.168707 -0.036155  0.149730  \n",
       "\n",
       "[5 rows x 410 columns]"
      ]
     },
     "execution_count": 37,
     "metadata": {},
     "output_type": "execute_result"
    }
   ],
   "source": [
    "df.head()"
   ]
  },
  {
   "cell_type": "code",
   "execution_count": 38,
   "metadata": {},
   "outputs": [
    {
     "data": {
      "text/plain": [
       "(15000, 410)"
      ]
     },
     "execution_count": 38,
     "metadata": {},
     "output_type": "execute_result"
    }
   ],
   "source": [
    "df.shape"
   ]
  },
  {
   "cell_type": "code",
   "execution_count": 39,
   "metadata": {},
   "outputs": [],
   "source": [
    "df.to_csv('embeddings_transformer.tsv', sep='\\t', index=False, header=False)"
   ]
  },
  {
   "cell_type": "code",
   "execution_count": 40,
   "metadata": {},
   "outputs": [],
   "source": [
    "df2 = pd.DataFrame(itos)"
   ]
  },
  {
   "cell_type": "code",
   "execution_count": 41,
   "metadata": {},
   "outputs": [
    {
     "data": {
      "text/html": [
       "<div>\n",
       "<style scoped>\n",
       "    .dataframe tbody tr th:only-of-type {\n",
       "        vertical-align: middle;\n",
       "    }\n",
       "\n",
       "    .dataframe tbody tr th {\n",
       "        vertical-align: top;\n",
       "    }\n",
       "\n",
       "    .dataframe thead th {\n",
       "        text-align: right;\n",
       "    }\n",
       "</style>\n",
       "<table border=\"1\" class=\"dataframe\">\n",
       "  <thead>\n",
       "    <tr style=\"text-align: right;\">\n",
       "      <th></th>\n",
       "      <th>0</th>\n",
       "    </tr>\n",
       "  </thead>\n",
       "  <tbody>\n",
       "    <tr>\n",
       "      <td>0</td>\n",
       "      <td>&lt;unk&gt;</td>\n",
       "    </tr>\n",
       "    <tr>\n",
       "      <td>1</td>\n",
       "      <td>&lt;s&gt;</td>\n",
       "    </tr>\n",
       "    <tr>\n",
       "      <td>2</td>\n",
       "      <td>&lt;/s&gt;</td>\n",
       "    </tr>\n",
       "    <tr>\n",
       "      <td>3</td>\n",
       "      <td>▁।</td>\n",
       "    </tr>\n",
       "    <tr>\n",
       "      <td>4</td>\n",
       "      <td>▁</td>\n",
       "    </tr>\n",
       "  </tbody>\n",
       "</table>\n",
       "</div>"
      ],
      "text/plain": [
       "       0\n",
       "0  <unk>\n",
       "1    <s>\n",
       "2   </s>\n",
       "3     ▁।\n",
       "4      ▁"
      ]
     },
     "execution_count": 41,
     "metadata": {},
     "output_type": "execute_result"
    }
   ],
   "source": [
    "df2.head()"
   ]
  },
  {
   "cell_type": "code",
   "execution_count": 42,
   "metadata": {},
   "outputs": [
    {
     "data": {
      "text/plain": [
       "(15000, 1)"
      ]
     },
     "execution_count": 42,
     "metadata": {},
     "output_type": "execute_result"
    }
   ],
   "source": [
    "df2.shape"
   ]
  },
  {
   "cell_type": "code",
   "execution_count": 43,
   "metadata": {},
   "outputs": [],
   "source": [
    "df2.to_csv('embeddings_transformer_metadata.tsv', sep='\\t', index=False, header=False)"
   ]
  },
  {
   "cell_type": "code",
   "execution_count": 44,
   "metadata": {
    "scrolled": true
   },
   "outputs": [
    {
     "data": {
      "text/plain": [
       "tensor([ 1.1258e-02,  1.2085e-02, -3.2718e-01, -1.9079e-01,  1.9945e-01,\n",
       "         3.0115e-01,  2.1063e-01, -1.9250e-01, -2.9771e-01, -3.3262e-01,\n",
       "         1.4946e-01,  3.2503e-01, -1.3289e-01, -8.2823e-02, -1.4475e-02,\n",
       "        -6.5161e-02, -1.8936e-01,  5.7732e-02, -7.9284e-02,  3.7859e-01,\n",
       "         1.6833e-01, -3.4021e-01,  1.8050e-01,  1.4352e-01,  3.3528e-01,\n",
       "         1.7950e-01,  1.9520e-01,  1.9014e-02,  2.5873e-01,  1.5333e-01,\n",
       "         2.0829e-01,  4.2714e-01, -3.3553e-01,  1.9896e-01, -2.9581e-01,\n",
       "         1.4861e-01,  1.2213e-01,  4.3766e-01, -1.0096e-01, -1.7052e-01,\n",
       "         2.6325e-01, -2.3996e-01,  5.3649e-02,  2.2249e-01, -3.1474e-01,\n",
       "         1.6868e-01,  3.4314e-02, -3.2171e-01, -3.4150e-02,  3.8736e-01,\n",
       "         3.1514e-01,  2.0272e-01,  2.9503e-01,  7.5956e-02,  9.8827e-03,\n",
       "        -6.1945e-03,  5.0792e-01,  2.0156e-02,  2.0680e-01, -4.6851e-01,\n",
       "         1.1200e-01, -1.7487e-01,  5.2594e-02, -2.0620e-01, -3.2792e-02,\n",
       "         4.1515e-01, -7.0323e-02, -2.9746e-01, -1.0749e-02, -2.6236e-01,\n",
       "        -4.1419e-02, -2.7170e-02, -2.0886e-01,  1.9033e-01,  7.5068e-02,\n",
       "         1.0572e-03, -3.0498e-01, -1.1766e-01, -1.5195e-01, -1.5743e-01,\n",
       "        -4.0072e-01,  8.0055e-02, -8.4193e-02, -1.4082e-02, -3.1563e-01,\n",
       "         1.9840e-01, -2.5443e-01,  3.0043e-01, -2.0184e-01,  2.1885e-02,\n",
       "        -4.4550e-01,  3.9018e-01, -2.4524e-01, -2.1939e-01,  4.3649e-01,\n",
       "         2.1843e-01, -3.2238e-02, -2.0826e-01, -8.4436e-02, -9.2828e-02,\n",
       "         3.2026e-01, -1.3881e-01,  3.1095e-02,  5.1119e-02,  3.0521e-01,\n",
       "         5.2587e-01,  2.1288e-01,  2.0493e-01, -3.5138e-02,  1.8499e-01,\n",
       "        -1.2578e-01, -1.8312e-01,  5.4578e-02,  1.0280e-01,  2.2638e-01,\n",
       "        -2.2383e-01,  6.8644e-02, -1.9806e-01,  1.2463e-01,  1.6329e-01,\n",
       "         1.3801e-01, -3.4583e-01, -2.5220e-01, -8.9290e-02, -2.7311e-03,\n",
       "         2.1930e-01,  4.3591e-01, -2.1044e-01, -2.1186e-01,  1.3799e-02,\n",
       "         9.8946e-02, -3.9818e-03,  1.2844e-01,  1.3153e-01,  7.3074e-01,\n",
       "        -2.9471e-01,  5.1074e-02,  4.7017e-02,  3.4152e-01, -4.0156e-01,\n",
       "         2.1476e-01,  3.9667e-01, -1.4618e-01,  1.5596e-01, -3.2665e-01,\n",
       "         3.3896e-01, -1.1303e-01,  3.5387e-01,  1.0155e-01,  5.5694e-01,\n",
       "         9.0703e-02,  2.9233e-01, -2.3911e-01,  2.8606e-01, -4.1977e-02,\n",
       "        -1.2241e-01, -5.1160e-02, -1.2883e-01, -2.0228e-01,  4.2940e-01,\n",
       "        -1.6068e-01,  1.0355e-02,  1.1526e-02,  5.3413e-01, -2.2525e-01,\n",
       "        -3.9726e-01,  4.5191e-02, -3.1103e-02,  3.5830e-02, -1.2065e-01,\n",
       "         2.7855e-01, -6.4940e-01,  1.3986e-01,  1.1819e-01,  8.9463e-02,\n",
       "         5.4678e-02,  4.7142e-02,  1.6654e-01,  1.9847e-01,  7.7587e-03,\n",
       "         2.1613e-01, -9.0148e-02, -5.2197e-02,  1.8688e-01, -6.7319e-02,\n",
       "        -4.1948e-02, -1.2360e-01, -1.5538e-01, -2.1049e-01, -1.1147e-01,\n",
       "        -7.6536e-03, -1.9865e-01, -4.1078e-01, -2.1089e-01, -2.3181e-01,\n",
       "        -2.3690e-01,  4.3500e-03, -1.7030e-01, -6.4519e-02,  9.3227e-02,\n",
       "         2.7838e-01,  3.2691e-01,  1.8801e-02,  1.6722e-01, -1.1485e-01,\n",
       "        -2.3530e-01,  6.8937e-03, -2.4835e-01, -5.1556e-03,  1.3896e-01,\n",
       "        -5.1239e-02,  3.6108e-01,  8.8859e-02,  3.1189e-01,  2.9213e-01,\n",
       "         2.1785e-01,  1.0643e-01, -2.0985e-01,  4.1556e-03, -4.5758e-01,\n",
       "         1.1207e-01, -1.7202e-01, -1.7612e-01, -2.7394e-02, -1.2997e-01,\n",
       "         3.2346e-01, -1.7330e-01,  2.8012e-01,  6.5269e-02, -4.0633e-01,\n",
       "        -9.8397e-03,  3.0695e-01,  7.2300e-02,  1.7440e-01,  3.2795e-02,\n",
       "         8.5370e-02, -3.6220e-01,  1.1593e-01, -3.6847e-01, -1.1415e-01,\n",
       "        -1.3697e-01, -3.7142e-01,  7.5723e-02, -1.8708e-01,  4.0610e-02,\n",
       "         4.4385e-02, -6.2924e-01, -4.4515e-02,  2.3797e-01,  1.8437e-02,\n",
       "         2.2385e-01, -3.3486e-01, -2.4216e-01,  1.3180e-01, -1.3300e-01,\n",
       "        -1.6841e-01, -6.2654e-02,  3.2015e-01,  1.4803e-01, -1.6276e-01,\n",
       "         2.2839e-01,  2.2032e-01,  9.0546e-02,  1.8681e-02,  4.0343e-01,\n",
       "        -6.2192e-02, -3.0645e-01, -6.6716e-02, -9.1604e-02, -5.3899e-02,\n",
       "         2.4630e-01,  8.3126e-02,  3.3864e-02,  1.9204e-01, -4.9179e-01,\n",
       "        -1.4631e-01,  2.3371e-01,  2.5077e-01, -1.0450e-01, -3.3123e-02,\n",
       "        -3.2259e-01, -1.9848e-01,  4.4294e-01, -5.7123e-03,  1.9429e-01,\n",
       "        -4.3464e-01,  2.1977e-01,  1.9046e-02, -3.7797e-01, -9.0049e-02,\n",
       "        -3.4216e-01, -5.8203e-02, -1.5550e-01,  2.8151e-01, -1.2694e-01,\n",
       "        -3.5911e-01, -2.6981e-01,  7.9404e-02, -6.3328e-02,  1.3155e-01,\n",
       "        -5.6951e-01, -8.9512e-02, -2.5792e-01, -2.6480e-01, -4.2115e-03,\n",
       "        -4.6091e-01,  2.8293e-01,  1.3712e-01,  1.5804e-01, -2.4174e-01,\n",
       "        -1.1748e-01,  1.6605e-01, -3.3575e-03,  5.8750e-01,  6.3636e-02,\n",
       "        -9.4081e-03,  3.8820e-01, -2.0026e-01, -1.6475e-02,  2.0222e-01,\n",
       "        -1.5893e-01,  4.2245e-02,  2.0823e-01,  1.0511e-01, -3.4910e-02,\n",
       "         2.5643e-01, -1.9748e-01,  3.3904e-02, -1.6058e-01,  3.5288e-01,\n",
       "        -1.4067e-01, -1.8267e-01,  1.4721e-01, -4.6232e-02, -1.7920e-01,\n",
       "        -2.1029e-01, -4.7916e-01, -4.4989e-01, -5.6499e-02, -2.1335e-01,\n",
       "        -1.0948e-01, -1.1299e-01, -5.9894e-01, -2.2934e-02, -5.7877e-01,\n",
       "        -2.3832e-01, -2.5574e-01, -1.2198e-01, -1.1247e-01, -3.0631e-01,\n",
       "        -6.8292e-02,  7.3618e-02,  7.2750e-02, -2.4148e-01,  6.2888e-02,\n",
       "         2.7208e-01, -1.4105e-01,  1.6304e-01, -4.6706e-01, -5.6848e-02,\n",
       "        -8.9081e-02, -8.4775e-02, -2.6010e-01,  5.4731e-02,  1.9422e-01,\n",
       "        -1.1128e-01, -1.2304e-01,  1.8900e-01, -1.7094e-01,  5.1504e-02,\n",
       "        -1.1282e-02,  6.0475e-02,  1.8091e-01,  1.9102e-01, -4.0503e-01,\n",
       "        -2.1685e-01, -2.3051e-01,  2.3603e-04, -1.0263e-01,  3.2449e-01,\n",
       "         2.4756e-01,  1.8280e-01,  3.4300e-02, -7.1552e-02,  7.1028e-02,\n",
       "        -4.4865e-02, -1.0816e-01,  1.7879e-01, -2.5056e-01,  3.4546e-02,\n",
       "        -2.7076e-01, -6.6030e-01, -4.9037e-01, -2.7352e-01,  1.5013e-01,\n",
       "         3.9735e-01,  1.9589e-02,  3.4614e-02, -3.6119e-01,  5.6835e-02,\n",
       "         2.4202e-01,  4.1203e-02, -3.1017e-01,  1.4573e-02,  1.8124e-01,\n",
       "        -4.0165e-02,  2.7050e-01,  1.9180e-01,  6.5483e-01, -9.6098e-02],\n",
       "       device='cuda:0')"
      ]
     },
     "execution_count": 44,
     "metadata": {},
     "output_type": "execute_result"
    }
   ],
   "source": [
    "encoder.state_dict()['encoder.weight'][1]"
   ]
  },
  {
   "cell_type": "code",
   "execution_count": null,
   "metadata": {},
   "outputs": [],
   "source": []
  }
 ],
 "metadata": {
  "kernelspec": {
   "display_name": "Python 3",
   "language": "python",
   "name": "python3"
  },
  "language_info": {
   "codemirror_mode": {
    "name": "ipython",
    "version": 3
   },
   "file_extension": ".py",
   "mimetype": "text/x-python",
   "name": "python",
   "nbconvert_exporter": "python",
   "pygments_lexer": "ipython3",
   "version": "3.7.4"
  }
 },
 "nbformat": 4,
 "nbformat_minor": 2
}

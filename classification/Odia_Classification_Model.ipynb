{
 "cells": [
  {
   "cell_type": "code",
   "execution_count": 1,
   "metadata": {},
   "outputs": [],
   "source": [
    "from fastai.text import *\n",
    "import numpy as np\n",
    "from sklearn.model_selection import train_test_split\n",
    "import pickle\n",
    "import sentencepiece as spm\n",
    "import re\n",
    "import pdb"
   ]
  },
  {
   "cell_type": "code",
   "execution_count": 2,
   "metadata": {},
   "outputs": [
    {
     "data": {
      "text/plain": [
       "('1.0.57', '1.1.0')"
      ]
     },
     "execution_count": 2,
     "metadata": {},
     "output_type": "execute_result"
    }
   ],
   "source": [
    "import fastai, torch\n",
    "fastai.__version__ , torch.__version__"
   ]
  },
  {
   "cell_type": "code",
   "execution_count": 3,
   "metadata": {},
   "outputs": [],
   "source": [
    "torch.cuda.set_device(0)"
   ]
  },
  {
   "cell_type": "code",
   "execution_count": 4,
   "metadata": {},
   "outputs": [
    {
     "name": "stdout",
     "output_type": "stream",
     "text": [
      "/home/gaurav/PycharmProjects/nlp-for-odia/classification\r\n"
     ]
    }
   ],
   "source": [
    "!pwd"
   ]
  },
  {
   "cell_type": "code",
   "execution_count": 5,
   "metadata": {},
   "outputs": [],
   "source": [
    "path = Path('/home/gaurav/PycharmProjects/nlp-for-odia/classification')"
   ]
  },
  {
   "cell_type": "code",
   "execution_count": 6,
   "metadata": {},
   "outputs": [
    {
     "data": {
      "text/html": [
       "<div>\n",
       "<style scoped>\n",
       "    .dataframe tbody tr th:only-of-type {\n",
       "        vertical-align: middle;\n",
       "    }\n",
       "\n",
       "    .dataframe tbody tr th {\n",
       "        vertical-align: top;\n",
       "    }\n",
       "\n",
       "    .dataframe thead th {\n",
       "        text-align: right;\n",
       "    }\n",
       "</style>\n",
       "<table border=\"1\" class=\"dataframe\">\n",
       "  <thead>\n",
       "    <tr style=\"text-align: right;\">\n",
       "      <th></th>\n",
       "      <th>headings</th>\n",
       "      <th>label</th>\n",
       "    </tr>\n",
       "  </thead>\n",
       "  <tbody>\n",
       "    <tr>\n",
       "      <td>0</td>\n",
       "      <td>ଅବସର ପାଇଁ ଚିନ୍ତା ନାହିଁ: ମାତ୍ର ୩୩% ଲୋକ କରୁଛନ୍ତ...</td>\n",
       "      <td>business</td>\n",
       "    </tr>\n",
       "    <tr>\n",
       "      <td>1</td>\n",
       "      <td>‘ପଦ୍ମାବତ୍‌’ ରିଲିଜ୍‌ ଉପରେ କଟକଣା ଜାରି କଲା ହରିଆଣା…</td>\n",
       "      <td>entertainment</td>\n",
       "    </tr>\n",
       "    <tr>\n",
       "      <td>2</td>\n",
       "      <td>ହାମିଲଟନ୍‌ ଟେଷ୍ଟରେ େଓ୍ଵଷ୍ଟଇଣ୍ଡିଜ୍‌ ୨୪୦ ରନ୍‌ରେ ...</td>\n",
       "      <td>sports</td>\n",
       "    </tr>\n",
       "    <tr>\n",
       "      <td>3</td>\n",
       "      <td>ଏହି ବଲିଉଡ୍‌ ଅଭିନେତ୍ରୀଙ୍କ ନାଁରେ ରଖାଗଲା ଗଣ୍ଡାର ...</td>\n",
       "      <td>entertainment</td>\n",
       "    </tr>\n",
       "    <tr>\n",
       "      <td>4</td>\n",
       "      <td>ଗିଲ୍‌କ୍ରିଷ୍ଟ, ବାଉଚର ଓ ସାଙ୍ଗାକାରାଙ୍କ ପରେ ଚତୁର୍...</td>\n",
       "      <td>sports</td>\n",
       "    </tr>\n",
       "  </tbody>\n",
       "</table>\n",
       "</div>"
      ],
      "text/plain": [
       "                                            headings          label\n",
       "0   ଅବସର ପାଇଁ ଚିନ୍ତା ନାହିଁ: ମାତ୍ର ୩୩% ଲୋକ କରୁଛନ୍ତ...       business\n",
       "1   ‘ପଦ୍ମାବତ୍‌’ ରିଲିଜ୍‌ ଉପରେ କଟକଣା ଜାରି କଲା ହରିଆଣା…   entertainment\n",
       "2   ହାମିଲଟନ୍‌ ଟେଷ୍ଟରେ େଓ୍ଵଷ୍ଟଇଣ୍ଡିଜ୍‌ ୨୪୦ ରନ୍‌ରେ ...         sports\n",
       "3   ଏହି ବଲିଉଡ୍‌ ଅଭିନେତ୍ରୀଙ୍କ ନାଁରେ ରଖାଗଲା ଗଣ୍ଡାର ...  entertainment\n",
       "4   ଗିଲ୍‌କ୍ରିଷ୍ଟ, ବାଉଚର ଓ ସାଙ୍ଗାକାରାଙ୍କ ପରେ ଚତୁର୍...         sports"
      ]
     },
     "execution_count": 6,
     "metadata": {},
     "output_type": "execute_result"
    }
   ],
   "source": [
    "train_df = pd.read_csv(path/'train.csv')\n",
    "train_df.head()"
   ]
  },
  {
   "cell_type": "code",
   "execution_count": 7,
   "metadata": {},
   "outputs": [
    {
     "data": {
      "text/html": [
       "<div>\n",
       "<style scoped>\n",
       "    .dataframe tbody tr th:only-of-type {\n",
       "        vertical-align: middle;\n",
       "    }\n",
       "\n",
       "    .dataframe tbody tr th {\n",
       "        vertical-align: top;\n",
       "    }\n",
       "\n",
       "    .dataframe thead th {\n",
       "        text-align: right;\n",
       "    }\n",
       "</style>\n",
       "<table border=\"1\" class=\"dataframe\">\n",
       "  <thead>\n",
       "    <tr style=\"text-align: right;\">\n",
       "      <th></th>\n",
       "      <th>headings</th>\n",
       "      <th>label</th>\n",
       "    </tr>\n",
       "  </thead>\n",
       "  <tbody>\n",
       "    <tr>\n",
       "      <td>0</td>\n",
       "      <td>ପୂର୍ବାଞ୍ଚଳ ହ୍ୟାଣ୍ଡ୍‌ବଲ୍‌: ଓଡ଼ିଶାକୁ କାଂସ୍ୟ</td>\n",
       "      <td>sports</td>\n",
       "    </tr>\n",
       "    <tr>\n",
       "      <td>1</td>\n",
       "      <td>ବସ୍‌, ଟ୍ରେନ୍‌ ଗନ୍ତବ୍ୟ ସ୍ଥଳର ଆଗୁଆ ସୂଚନା ଦେବ ଗୁ...</td>\n",
       "      <td>business</td>\n",
       "    </tr>\n",
       "    <tr>\n",
       "      <td>2</td>\n",
       "      <td>ରିଭର୍ସ ଗିୟରରେ ଚାଲିବ ସ୍କୁଟର, ୨ ଘଂଟା ଚାର୍ଜ କଲେ ...</td>\n",
       "      <td>business</td>\n",
       "    </tr>\n",
       "    <tr>\n",
       "      <td>3</td>\n",
       "      <td>ବେଲଜିୟମ ଓ କାନାଡା ଦଳରେ ପରିବର୍ତନ</td>\n",
       "      <td>sports</td>\n",
       "    </tr>\n",
       "    <tr>\n",
       "      <td>4</td>\n",
       "      <td>ରୋନାଲ୍‌ଡୋଙ୍କୁ ପଞ୍ଚମ ଥର ବାଲନ୍‌ ଡି’ଓର୍‌ ସମ୍ମାନ</td>\n",
       "      <td>sports</td>\n",
       "    </tr>\n",
       "  </tbody>\n",
       "</table>\n",
       "</div>"
      ],
      "text/plain": [
       "                                            headings     label\n",
       "0          ପୂର୍ବାଞ୍ଚଳ ହ୍ୟାଣ୍ଡ୍‌ବଲ୍‌: ଓଡ଼ିଶାକୁ କାଂସ୍ୟ     sports\n",
       "1   ବସ୍‌, ଟ୍ରେନ୍‌ ଗନ୍ତବ୍ୟ ସ୍ଥଳର ଆଗୁଆ ସୂଚନା ଦେବ ଗୁ...  business\n",
       "2   ରିଭର୍ସ ଗିୟରରେ ଚାଲିବ ସ୍କୁଟର, ୨ ଘଂଟା ଚାର୍ଜ କଲେ ...  business\n",
       "3                    ବେଲଜିୟମ ଓ କାନାଡା ଦଳରେ ପରିବର୍ତନ     sports\n",
       "4      ରୋନାଲ୍‌ଡୋଙ୍କୁ ପଞ୍ଚମ ଥର ବାଲନ୍‌ ଡି’ଓର୍‌ ସମ୍ମାନ     sports"
      ]
     },
     "execution_count": 7,
     "metadata": {},
     "output_type": "execute_result"
    }
   ],
   "source": [
    "valid_df = pd.read_csv(path/'valid.csv')\n",
    "valid_df.head()"
   ]
  },
  {
   "cell_type": "code",
   "execution_count": 8,
   "metadata": {},
   "outputs": [
    {
     "name": "stdout",
     "output_type": "stream",
     "text": [
      "In Training data:\n",
      "business 4613\n",
      "entertainment 3666\n",
      "sports 6921\n"
     ]
    }
   ],
   "source": [
    "print('In Training data:')\n",
    "for cls in train_df['label'].unique():\n",
    "    print(cls, (train_df['label'] == cls).sum())"
   ]
  },
  {
   "cell_type": "code",
   "execution_count": 9,
   "metadata": {},
   "outputs": [
    {
     "name": "stdout",
     "output_type": "stream",
     "text": [
      "In Validation data:\n",
      "sports 1729\n",
      "business 1166\n",
      "entertainment 906\n"
     ]
    }
   ],
   "source": [
    "print('In Validation data:')\n",
    "for cls in valid_df['label'].unique():\n",
    "    print(cls, (valid_df['label'] == cls).sum())"
   ]
  },
  {
   "cell_type": "code",
   "execution_count": 10,
   "metadata": {},
   "outputs": [
    {
     "data": {
      "text/plain": [
       "' ଅବସର ପାଇଁ ଚିନ୍ତା ନାହିଁ: ମାତ୍ର ୩୩% ଲୋକ କରୁଛନ୍ତି ସଞ୍ଚୟ '"
      ]
     },
     "execution_count": 10,
     "metadata": {},
     "output_type": "execute_result"
    }
   ],
   "source": [
    "train_df['headings'][0]"
   ]
  },
  {
   "cell_type": "code",
   "execution_count": 11,
   "metadata": {},
   "outputs": [
    {
     "data": {
      "text/plain": [
       "((15200, 2), (3801, 2))"
      ]
     },
     "execution_count": 11,
     "metadata": {},
     "output_type": "execute_result"
    }
   ],
   "source": [
    "train_df.shape, valid_df.shape"
   ]
  },
  {
   "cell_type": "code",
   "execution_count": 12,
   "metadata": {},
   "outputs": [
    {
     "data": {
      "text/plain": [
       "((0, 2), (0, 2))"
      ]
     },
     "execution_count": 12,
     "metadata": {},
     "output_type": "execute_result"
    }
   ],
   "source": [
    "train_df[train_df['headings'].isnull()].shape, valid_df[valid_df['headings'].isnull()].shape"
   ]
  },
  {
   "cell_type": "code",
   "execution_count": 13,
   "metadata": {},
   "outputs": [],
   "source": [
    "label_cols = list(range(1,train_df.shape[1]))"
   ]
  },
  {
   "cell_type": "code",
   "execution_count": 14,
   "metadata": {},
   "outputs": [
    {
     "name": "stdout",
     "output_type": "stream",
     "text": [
      "[1]\n"
     ]
    }
   ],
   "source": [
    "print(label_cols)"
   ]
  },
  {
   "cell_type": "code",
   "execution_count": 15,
   "metadata": {},
   "outputs": [],
   "source": [
    "id_to_col = list(train_df.columns)"
   ]
  },
  {
   "cell_type": "code",
   "execution_count": 16,
   "metadata": {},
   "outputs": [],
   "source": [
    "col_to_id = {}\n",
    "for i, col in enumerate(id_to_col):\n",
    "    col_to_id[col] = i"
   ]
  },
  {
   "cell_type": "code",
   "execution_count": 17,
   "metadata": {},
   "outputs": [],
   "source": [
    "class OriyaTokenizer(BaseTokenizer):\n",
    "    def __init__(self, lang:str):\n",
    "        self.lang = lang\n",
    "        self.sp = spm.SentencePieceProcessor()\n",
    "        self.sp.Load(str(path/\"../tokenizer/oriya_lm.model\"))\n",
    "        \n",
    "    def tokenizer(self, t:str) -> List[str]:\n",
    "        return self.sp.EncodeAsPieces(t)"
   ]
  },
  {
   "cell_type": "code",
   "execution_count": 18,
   "metadata": {},
   "outputs": [],
   "source": [
    "sp = spm.SentencePieceProcessor()\n",
    "sp.Load(str(path/\"../tokenizer/oriya_lm.model\"))\n",
    "itos = [sp.IdToPiece(int(i)) for i in range(15000)]"
   ]
  },
  {
   "cell_type": "code",
   "execution_count": 19,
   "metadata": {},
   "outputs": [],
   "source": [
    "# 15,000 is the vocab size that we chose in sentencepiece\n",
    "oriya_vocab = Vocab(itos)"
   ]
  },
  {
   "cell_type": "code",
   "execution_count": 20,
   "metadata": {},
   "outputs": [],
   "source": [
    "tokenizer = Tokenizer(tok_func=OriyaTokenizer, lang='or')"
   ]
  },
  {
   "cell_type": "code",
   "execution_count": 21,
   "metadata": {},
   "outputs": [
    {
     "data": {
      "text/plain": [
       "['xxunk',\n",
       " 'xxpad',\n",
       " 'xxbos',\n",
       " 'xxeos',\n",
       " 'xxfld',\n",
       " 'xxmaj',\n",
       " 'xxup',\n",
       " 'xxrep',\n",
       " 'xxwrep']"
      ]
     },
     "execution_count": 21,
     "metadata": {},
     "output_type": "execute_result"
    }
   ],
   "source": [
    "tokenizer.special_cases"
   ]
  },
  {
   "cell_type": "code",
   "execution_count": 22,
   "metadata": {},
   "outputs": [],
   "source": [
    "data_lm = TextLMDataBunch.from_df(path=path, train_df=train_df, valid_df=valid_df, text_cols=[0], label_cols=label_cols, tokenizer=tokenizer, vocab=oriya_vocab, bs=16)"
   ]
  },
  {
   "cell_type": "code",
   "execution_count": 23,
   "metadata": {},
   "outputs": [],
   "source": [
    "data_lm.save()"
   ]
  },
  {
   "cell_type": "code",
   "execution_count": 24,
   "metadata": {},
   "outputs": [
    {
     "data": {
      "text/html": [
       "<table border=\"1\" class=\"dataframe\">\n",
       "  <thead>\n",
       "    <tr style=\"text-align: right;\">\n",
       "      <th>idx</th>\n",
       "      <th>text</th>\n",
       "    </tr>\n",
       "  </thead>\n",
       "  <tbody>\n",
       "    <tr>\n",
       "      <td>0</td>\n",
       "      <td>ରେ ▁ରଖାଗଲା ▁ଗଣ୍ଡା ର ▁ନାଁ , ଜା ଣ ନ୍ତୁ ... ▁x x b os ▁ ଗି ଲ୍ ▁କ୍ରିଷ୍ଟ , ▁ବା ଉ ଚର ▁ଓ ▁ସାଙ୍ଗାକାରା ଙ୍କ ▁ପରେ ▁ଚତୁର୍ଥ ▁ଧୋ ନି ▁ &lt;unk&gt; ▁୧୦ , ୦୦୦ ▁x x b os ▁କି ଟ୍ ▁ ରେ ▁ଜାତୀୟ ▁ଦଳ ଗତ ▁ଚେସ ୍ ▁ଆରମ୍ଭ ▁x x b os ▁ଦକ୍ଷିଣ ▁କୋରିଆ କୁ ▁ଶକ୍ତ ▁ଧକ୍କା : ଜ ର୍ମ ାନି ▁ମ୍ୟାଚ୍ ▁ ରୁ ▁ଅଧିନାୟକ ▁‘ କି ’ ▁ବା ଦ୍</td>\n",
       "    </tr>\n",
       "    <tr>\n",
       "      <td>1</td>\n",
       "      <td>▁ଜିତିବା ▁ଲକ୍ଷ୍ୟ ରେ ▁କୋ ହ ଲି ଙ୍କ ▁ବିରାଟ ▁ବାହିନୀ ▁x x b os ▁ଆଉ ▁୩୧ ▁ଦିନ , ▁ହକି ର ▁ରୋ ଚକ ▁ଇତିହାସ ▁x x b os ▁ଶ୍ରୀଦେବୀ ଙ୍କ ▁ମୃତ୍ୟୁ ▁ସୁ ଚି ନ୍ତ ିତ ▁ଷଡ଼ଯନ୍ତ୍ର ▁: ▁ପୂର୍ବତନ ▁ପୁଲିସ ... ▁x x b os ▁ଆମ ▁ଜବ ତ ▁ସମ୍ପତ୍ତି ରେ ▁ସବୁ ▁ବ କେ ୟା ▁ଶୁ ଝି ▁ହେବ : ▁ମା ଲ୍ୟା ▁x x b os ▁ଫେସବୁକ ୍ ▁ଡି ଲିଟ ▁ହେବାର ▁ସମୟ ▁ଆସିଛି : ▁ହ</td>\n",
       "    </tr>\n",
       "    <tr>\n",
       "      <td>2</td>\n",
       "      <td>x b os ▁ଏହି ▁ପ୍ରକଳ୍ପ କୁ ▁ହାତ େଇବା ▁ଲାଗି ▁ମୁ କେଶ ▁ଓ ▁ଅ ନୀ ଲ ▁ଅମ୍ବ ାନୀ ଙ୍କ ▁ଭିତରେ ▁ତୀବ୍ର ▁ପ୍ରତି ଦ୍ୱନ୍ଦ ୍ୱ ିତା ▁x x b os ▁ମୁ କେଶ ▁ଅମ୍ବ ାନି ଙ୍କ ▁ଦରମା ▁ତାଙ୍କ ▁କର୍ମଚାରୀ ଙ୍କଠାରୁ ▁କମ ▁! ▁x x b os ▁ପାର୍ବଣ ରେ ▁ବଢି ଚାଲି ଛି ▁ସୁନା ଦର ▁ , ▁କ୍ରମାଗତ ▁୪ର୍ଥ ▁ସପ୍ତାହ ▁ପାଇଁ ▁ବଢି ଲା ▁x x b os ▁ଏହି ▁ଅଭିନେତ୍ରୀ ଙ୍କ ▁ଫଟୋ କୁ ▁କଲ୍ ▁ଗାର୍ଲ ▁ଦର୍ଶାଇ</td>\n",
       "    </tr>\n",
       "    <tr>\n",
       "      <td>3</td>\n",
       "      <td>ପ୍ ▁: ▁ନିର୍ଦ୍ଦେଶକ ଙ୍କ ▁ଉପରେ ▁ରାଗ ିଲେ ... ▁x x b os ▁ବଜାର ରେ ▁ନୋ କିଆ ର ▁୩ଟି ▁ନୂଆ ▁ହାଇ ଏ ଣ୍ଡ ୍ ▁ସ୍ମାର୍ଟ ଫୋନ ▁x x b os ▁ରାଜ୍ୟ ସ୍ତରୀୟ ▁ଜନଜାତି ▁କ୍ରୀଡ଼ା ▁ଆରମ୍ଭ ▁x x b os ▁ମୁଁ ▁ବି ▁ହୋଇଛି ▁କା ଷ୍ଟି ଙ୍ଗ୍ ▁କାଉ ଚ୍ ▁ ର ▁ଶିକାର , ▁ନିର୍ଦ୍ଦେଶକ ... ▁x x b os ▁ଏ ଟି କେ ▁ବିଜୟୀ ▁x x b os ▁ପାଣ୍ଡ ୍ୟା - ରାହ ୁଲ ଙ୍କ</td>\n",
       "    </tr>\n",
       "    <tr>\n",
       "      <td>4</td>\n",
       "      <td>ଜୋନ ୍ ▁କନିଷ୍ଠ ▁ମହିଳା ▁କ୍ରିକେଟ ୍ ▁ , ▁ପୂର୍ବ ାଞ୍ଚଳ ▁ବିଜେତା ▁x x b os ▁ କୁ ଚ୍ ▁ବେ ହାର ▁ଟ୍ରଫି : ▁ଓଡ଼ିଶାର ▁ପାଳି ▁ପରାଜୟ ▁x x b os ▁ପ୍ରିୟା ଙ୍କ ▁ବିରୋଧ ରେ ▁ହୋଇଥିବା ▁ମାମଲା କୁ ▁ସୁପ୍ରିମ ୍ ▁କୋର୍ଟ ▁ଖାରଜ ... ▁x x b os ▁ଏହି ▁ବଲିଉଡ ▁ନାୟିକା ଙ୍କର ▁ଇନ୍ ▁ଷ୍ଟା ଗ୍ରାମ ୍ ▁ହ ୍ୟା କ୍ ▁ହେଲା ▁x x b os ▁ଫିଲ୍ମ ର ▁ଟି ଜର ▁ରିଲିଜ ୍ ▁ଅବସରରେ ▁ସମସ୍ତଙ୍କ ▁ଆଗ</td>\n",
       "    </tr>\n",
       "  </tbody>\n",
       "</table>"
      ],
      "text/plain": [
       "<IPython.core.display.HTML object>"
      ]
     },
     "metadata": {},
     "output_type": "display_data"
    }
   ],
   "source": [
    "data_lm.show_batch()"
   ]
  },
  {
   "cell_type": "code",
   "execution_count": 25,
   "metadata": {},
   "outputs": [],
   "source": [
    "awd_lstm_config = awd_lstm_lm_config.copy()\n",
    "awd_lstm_config['n_hid'] = 1150\n",
    "learn = language_model_learner(data_lm, arch=AWD_LSTM, drop_mult=0.3, config=awd_lstm_config, pretrained=False)"
   ]
  },
  {
   "cell_type": "code",
   "execution_count": 26,
   "metadata": {
    "scrolled": true
   },
   "outputs": [
    {
     "data": {
      "text/plain": [
       "LanguageLearner(data=TextLMDataBunch;\n",
       "\n",
       "Train: LabelList (15200 items)\n",
       "x: LMTextList\n",
       "▁x x b os ▁ଅବସର ▁ପାଇଁ ▁ଚିନ୍ତା ▁ନାହିଁ : ▁ମାତ୍ର ▁୩୩ % ▁ଲୋକ ▁କରୁଛନ୍ତି ▁ସଞ୍ଚୟ,▁x x b os ▁‘ ପଦ୍ମ ା ବତ୍ ▁ ’ ▁ରିଲିଜ ୍ ▁ଉପରେ ▁କଟକଣା ▁ଜାରି ▁କଲା ▁ହ ରିଆ ଣା ...,▁x x b os ▁ହା ମି ଲ ଟନ୍ ▁ଟେଷ୍ଟ ରେ ▁ େ ଓ ୍ <unk> ଷ୍ଟ ଇଣ୍ଡ ିଜ୍ ▁୨ ୪୦ ▁ ର ନ୍ ▁ ରେ ▁ପରାସ୍ତ,▁x x b os ▁ଏହି ▁ବଲିଉଡ୍ ▁ଅଭିନେତ୍ରୀ ଙ୍କ ▁ନାଁ ରେ ▁ରଖାଗଲା ▁ଗଣ୍ଡା ର ▁ନାଁ , ଜା ଣ ନ୍ତୁ ...,▁x x b os ▁ ଗି ଲ୍ ▁କ୍ରିଷ୍ଟ , ▁ବା ଉ ଚର ▁ଓ ▁ସାଙ୍ଗାକାରା ଙ୍କ ▁ପରେ ▁ଚତୁର୍ଥ ▁ଧୋ ନି ▁ <unk> ▁୧୦ , ୦୦୦\n",
       "y: LMLabelList\n",
       ",,,,\n",
       "Path: /home/gaurav/PycharmProjects/nlp-for-odia/classification;\n",
       "\n",
       "Valid: LabelList (3801 items)\n",
       "x: LMTextList\n",
       "▁x x b os ▁ପୂର୍ବ ାଞ୍ଚଳ ▁ ହ୍ୟାଣ୍ଡ ୍ ▁ବଲ୍ ▁: ▁ଓଡ଼ିଶା କୁ ▁କାଂସ୍ୟ,▁x x b os ▁ବସ୍ ▁ , ▁ଟ୍ରେନ ୍ ▁ଗ ନ୍ତ ବ୍ୟ ▁ସ୍ଥଳ ର ▁ଆଗୁଆ ▁ସୂଚନା ▁ଦେବ ▁ଗୁଗୁଲ ୍ ▁ମ୍ୟା ପ୍,▁x x b os ▁ରି ଭର୍ସ ▁ଗ ିୟ ର ରେ ▁ଚାଲି ବ ▁ସ୍ କୁ ଟର , ▁୨ ▁ଘ ଂ ଟା ▁ଚାର୍ଜ ▁କଲେ ▁ବିନା ▁ପେଟ ୍ରୋଲ ୍ ▁ ରେ ▁ ଯିବ ▁୮୦ ▁କିମି ▁ବାଟ,▁x x b os ▁ବେଲ ଜି ୟମ ▁ଓ ▁କାନାଡା ▁ଦଳରେ ▁ପରିବର୍ତନ,▁x x b os ▁ରୋ ନା ଲ୍ ▁ଡୋ ଙ୍କୁ ▁ପଞ୍ଚମ ▁ଥର ▁ବା ଲ ନ୍ ▁ଡି ’ ଓ ର୍ ▁ସମ୍ମାନ\n",
       "y: LMLabelList\n",
       ",,,,\n",
       "Path: /home/gaurav/PycharmProjects/nlp-for-odia/classification;\n",
       "\n",
       "Test: None, model=SequentialRNN(\n",
       "  (0): AWD_LSTM(\n",
       "    (encoder): Embedding(15000, 400, padding_idx=1)\n",
       "    (encoder_dp): EmbeddingDropout(\n",
       "      (emb): Embedding(15000, 400, padding_idx=1)\n",
       "    )\n",
       "    (rnns): ModuleList(\n",
       "      (0): WeightDropout(\n",
       "        (module): LSTM(400, 1150, batch_first=True)\n",
       "      )\n",
       "      (1): WeightDropout(\n",
       "        (module): LSTM(1150, 1150, batch_first=True)\n",
       "      )\n",
       "      (2): WeightDropout(\n",
       "        (module): LSTM(1150, 400, batch_first=True)\n",
       "      )\n",
       "    )\n",
       "    (input_dp): RNNDropout()\n",
       "    (hidden_dps): ModuleList(\n",
       "      (0): RNNDropout()\n",
       "      (1): RNNDropout()\n",
       "      (2): RNNDropout()\n",
       "    )\n",
       "  )\n",
       "  (1): LinearDecoder(\n",
       "    (decoder): Linear(in_features=400, out_features=15000, bias=True)\n",
       "    (output_dp): RNNDropout()\n",
       "  )\n",
       "), opt_func=functools.partial(<class 'torch.optim.adam.Adam'>, betas=(0.9, 0.99)), loss_func=FlattenedLoss of CrossEntropyLoss(), metrics=[<function accuracy at 0x7f8b9363d4d0>], true_wd=True, bn_wd=True, wd=0.01, train_bn=True, path=PosixPath('/home/gaurav/PycharmProjects/nlp-for-odia/classification'), model_dir='models', callback_fns=[functools.partial(<class 'fastai.basic_train.Recorder'>, add_time=True, silent=False)], callbacks=[RNNTrainer\n",
       "learn: ...\n",
       "alpha: 2.0\n",
       "beta: 1.0], layer_groups=[Sequential(\n",
       "  (0): WeightDropout(\n",
       "    (module): LSTM(400, 1150, batch_first=True)\n",
       "  )\n",
       "  (1): RNNDropout()\n",
       "), Sequential(\n",
       "  (0): WeightDropout(\n",
       "    (module): LSTM(1150, 1150, batch_first=True)\n",
       "  )\n",
       "  (1): RNNDropout()\n",
       "), Sequential(\n",
       "  (0): WeightDropout(\n",
       "    (module): LSTM(1150, 400, batch_first=True)\n",
       "  )\n",
       "  (1): RNNDropout()\n",
       "), Sequential(\n",
       "  (0): Embedding(15000, 400, padding_idx=1)\n",
       "  (1): EmbeddingDropout(\n",
       "    (emb): Embedding(15000, 400, padding_idx=1)\n",
       "  )\n",
       "  (2): LinearDecoder(\n",
       "    (decoder): Linear(in_features=400, out_features=15000, bias=True)\n",
       "    (output_dp): RNNDropout()\n",
       "  )\n",
       ")], add_time=True, silent=False, cb_fns_registered=False)"
      ]
     },
     "execution_count": 26,
     "metadata": {},
     "output_type": "execute_result"
    }
   ],
   "source": [
    "# Loading the pretrained language model on odia wikipedia\n",
    "learn.load('/home/gaurav/PycharmProjects/nlp-for-odia/language-model/OriyaDataset/models/third_or_lm', with_opt=True)"
   ]
  },
  {
   "cell_type": "code",
   "execution_count": 27,
   "metadata": {},
   "outputs": [],
   "source": [
    "# Fine tuning the prtrained LM on current dataset"
   ]
  },
  {
   "cell_type": "code",
   "execution_count": 28,
   "metadata": {},
   "outputs": [
    {
     "data": {
      "text/html": [],
      "text/plain": [
       "<IPython.core.display.HTML object>"
      ]
     },
     "metadata": {},
     "output_type": "display_data"
    },
    {
     "name": "stdout",
     "output_type": "stream",
     "text": [
      "LR Finder is complete, type {learner_name}.recorder.plot() to see the graph.\n"
     ]
    }
   ],
   "source": [
    "learn.lr_find()"
   ]
  },
  {
   "cell_type": "code",
   "execution_count": 29,
   "metadata": {},
   "outputs": [
    {
     "data": {
      "image/png": "[encoded data removed]",
      "text/plain": [
       "<Figure size 432x288 with 1 Axes>"
      ]
     },
     "metadata": {
      "needs_background": "light"
     },
     "output_type": "display_data"
    }
   ],
   "source": [
    "learn.recorder.plot()"
   ]
  },
  {
   "cell_type": "code",
   "execution_count": 30,
   "metadata": {},
   "outputs": [],
   "source": [
    "learn.freeze()"
   ]
  },
  {
   "cell_type": "code",
   "execution_count": 31,
   "metadata": {},
   "outputs": [
    {
     "data": {
      "text/html": [
       "<table border=\"1\" class=\"dataframe\">\n",
       "  <thead>\n",
       "    <tr style=\"text-align: left;\">\n",
       "      <th>epoch</th>\n",
       "      <th>train_loss</th>\n",
       "      <th>valid_loss</th>\n",
       "      <th>accuracy</th>\n",
       "      <th>time</th>\n",
       "    </tr>\n",
       "  </thead>\n",
       "  <tbody>\n",
       "    <tr>\n",
       "      <td>0</td>\n",
       "      <td>4.538344</td>\n",
       "      <td>4.332612</td>\n",
       "      <td>0.345899</td>\n",
       "      <td>00:18</td>\n",
       "    </tr>\n",
       "  </tbody>\n",
       "</table>"
      ],
      "text/plain": [
       "<IPython.core.display.HTML object>"
      ]
     },
     "metadata": {},
     "output_type": "display_data"
    }
   ],
   "source": [
    "learn.fit_one_cycle(1, 1e-2)"
   ]
  },
  {
   "cell_type": "code",
   "execution_count": 32,
   "metadata": {},
   "outputs": [],
   "source": [
    "learn.unfreeze()"
   ]
  },
  {
   "cell_type": "code",
   "execution_count": 33,
   "metadata": {},
   "outputs": [
    {
     "data": {
      "text/html": [
       "<table border=\"1\" class=\"dataframe\">\n",
       "  <thead>\n",
       "    <tr style=\"text-align: left;\">\n",
       "      <th>epoch</th>\n",
       "      <th>train_loss</th>\n",
       "      <th>valid_loss</th>\n",
       "      <th>accuracy</th>\n",
       "      <th>time</th>\n",
       "    </tr>\n",
       "  </thead>\n",
       "  <tbody>\n",
       "    <tr>\n",
       "      <td>0</td>\n",
       "      <td>4.062820</td>\n",
       "      <td>4.056144</td>\n",
       "      <td>0.379252</td>\n",
       "      <td>00:21</td>\n",
       "    </tr>\n",
       "    <tr>\n",
       "      <td>1</td>\n",
       "      <td>3.743655</td>\n",
       "      <td>3.804649</td>\n",
       "      <td>0.410381</td>\n",
       "      <td>00:21</td>\n",
       "    </tr>\n",
       "    <tr>\n",
       "      <td>2</td>\n",
       "      <td>3.438715</td>\n",
       "      <td>3.702147</td>\n",
       "      <td>0.425061</td>\n",
       "      <td>00:21</td>\n",
       "    </tr>\n",
       "    <tr>\n",
       "      <td>3</td>\n",
       "      <td>3.212454</td>\n",
       "      <td>3.674816</td>\n",
       "      <td>0.429661</td>\n",
       "      <td>00:21</td>\n",
       "    </tr>\n",
       "    <tr>\n",
       "      <td>4</td>\n",
       "      <td>3.099466</td>\n",
       "      <td>3.679505</td>\n",
       "      <td>0.430630</td>\n",
       "      <td>00:21</td>\n",
       "    </tr>\n",
       "  </tbody>\n",
       "</table>"
      ],
      "text/plain": [
       "<IPython.core.display.HTML object>"
      ]
     },
     "metadata": {},
     "output_type": "display_data"
    }
   ],
   "source": [
    "learn.fit_one_cycle(5, 1e-3)"
   ]
  },
  {
   "cell_type": "code",
   "execution_count": 34,
   "metadata": {},
   "outputs": [
    {
     "data": {
      "text/plain": [
       "'ରେ ଅପ ଗ୍ ରେ ଡ େଲ ସି , ▁ପ୍ରଣୟ ର ▁କ୍ଷତି ▁x x b os'"
      ]
     },
     "execution_count": 34,
     "metadata": {},
     "output_type": "execute_result"
    }
   ],
   "source": [
    "learn.predict('ରେ ଅପ ଗ୍ ରେ ଡ',n_words=10)"
   ]
  },
  {
   "cell_type": "code",
   "execution_count": 35,
   "metadata": {},
   "outputs": [],
   "source": [
    "learn.save_encoder('fine_tuned_enc')"
   ]
  },
  {
   "cell_type": "code",
   "execution_count": 36,
   "metadata": {},
   "outputs": [],
   "source": [
    "data_clas = TextClasDataBunch.from_df(path=path, train_df=train_df, valid_df=valid_df, tokenizer=tokenizer, vocab=oriya_vocab, text_cols=[0], label_cols=label_cols, bs=16)"
   ]
  },
  {
   "cell_type": "code",
   "execution_count": 37,
   "metadata": {},
   "outputs": [
    {
     "data": {
      "text/html": [
       "<table border=\"1\" class=\"dataframe\">\n",
       "  <thead>\n",
       "    <tr style=\"text-align: right;\">\n",
       "      <th>text</th>\n",
       "      <th>target</th>\n",
       "    </tr>\n",
       "  </thead>\n",
       "  <tbody>\n",
       "    <tr>\n",
       "      <td>▁x x b os ▁୧୧ ▁ଶହ ▁ସହର ରେ ▁ପହଞ୍ଚି ବ ▁ଜି ଓ ▁ ଗି ଗା ▁ଫାଇ ବର , ▁ ଡେନ ▁ ନେଟ ଓ ୍ &lt;unk&gt; ର୍କ ▁ଓ ▁ହା ଥେ ଓ ୍ &lt;unk&gt; ▁କେ ବୁଲ ର ▁ସର୍ବାଧିକ ▁ଅଂଶ ଧନ ▁ଖ ରି ଦ ▁କଲା ▁ରି ଲା ଏନ୍ ସ</td>\n",
       "      <td>business</td>\n",
       "    </tr>\n",
       "    <tr>\n",
       "      <td>▁x x b os ▁ଏସିଆ ▁କପ୍ ▁: ▁ଭାରତର ▁ସ୍କୋର ▁୨ ୮୫ ▁ ର ନ୍ ▁ଜ ବା ବ୍ ▁ ରେ ▁ହଂକଂ ର ▁ବ୍ୟା ଟି ଂ ▁ଜାରି , ▁ବିନା ▁ଓ ୍ &lt;unk&gt; ିକ େଟ୍ ▁ ରେ ▁ସ୍କୋର ▁ ୮୯ ▁ ର ନ୍</td>\n",
       "      <td>sports</td>\n",
       "    </tr>\n",
       "    <tr>\n",
       "      <td>▁x x b os ▁କ୍ରିକେଟ ର ▁ମୋହ ମ୍ ମ ଦ ▁ସା ମି ଙ୍କ ▁ଜୀବନରେ ▁ଝଡ଼ , ▁ଫେ ସ୍ ▁ବୁ କ୍ ▁ ରେ ▁ହ ୍ &lt;unk&gt; ାଟ ସ୍ ▁ଅପ୍ ▁ ସ୍କ୍ରିନ ୍ ▁ସ ର୍ଟ ▁ସେ ୟାର ▁କଲେ ▁ପତ୍ନୀ ▁ହା ସିନ</td>\n",
       "      <td>sports</td>\n",
       "    </tr>\n",
       "    <tr>\n",
       "      <td>▁x x b os ▁ହ ୍ &lt;unk&gt; ାଟ ସ୍ ▁ଆପ୍ ▁ କୁ ▁ଟକ୍ କର ▁ଦେବାକୁ ▁ଯାଇ ▁ପ ତ ଞ୍ଜ ଳି ▁ଲଞ୍ଚ ▁କଲା ▁ନୂତନ ▁ମେ ସେ ଜି ଂ ▁ଆପ୍ ▁ , ▁କ ’ ଣ ▁ରହିଛି ▁ବିଶେଷତ୍ୱ ▁ଜାଣନ୍ତ ୁ</td>\n",
       "      <td>business</td>\n",
       "    </tr>\n",
       "    <tr>\n",
       "      <td>▁x x b os ▁ସର୍ବ ▁ଭାରତୀୟ ▁ଲୁ ତୁର ପ ଙ୍କ ▁କ୍ରିକେଟ ▁କପ୍ ▁: ▁ଜୁ ଭେନ ାଇଲ କୁ ▁୪ ▁ଓ ୍ &lt;unk&gt; ି କେଟ ରେ ▁ହରାଇ ▁ସେ ମି ରେ ▁ମେହ େ ତା ବ୍ ▁କ୍ଲବ</td>\n",
       "      <td>sports</td>\n",
       "    </tr>\n",
       "  </tbody>\n",
       "</table>"
      ],
      "text/plain": [
       "<IPython.core.display.HTML object>"
      ]
     },
     "metadata": {},
     "output_type": "display_data"
    }
   ],
   "source": [
    "data_clas.show_batch()"
   ]
  },
  {
   "cell_type": "code",
   "execution_count": 38,
   "metadata": {},
   "outputs": [],
   "source": [
    "del awd_lstm_config['tie_weights']\n",
    "del awd_lstm_config['out_bias']"
   ]
  },
  {
   "cell_type": "code",
   "execution_count": 39,
   "metadata": {},
   "outputs": [],
   "source": [
    "learn = text_classifier_learner(data_clas, arch=AWD_LSTM, drop_mult=0.5, config=awd_lstm_config)"
   ]
  },
  {
   "cell_type": "code",
   "execution_count": 40,
   "metadata": {
    "scrolled": true
   },
   "outputs": [
    {
     "data": {
      "text/plain": [
       "RNNLearner(data=TextClasDataBunch;\n",
       "\n",
       "Train: LabelList (15200 items)\n",
       "x: TextList\n",
       "▁x x b os ▁ଅବସର ▁ପାଇଁ ▁ଚିନ୍ତା ▁ନାହିଁ : ▁ମାତ୍ର ▁୩୩ % ▁ଲୋକ ▁କରୁଛନ୍ତି ▁ସଞ୍ଚୟ,▁x x b os ▁‘ ପଦ୍ମ ା ବତ୍ ▁ ’ ▁ରିଲିଜ ୍ ▁ଉପରେ ▁କଟକଣା ▁ଜାରି ▁କଲା ▁ହ ରିଆ ଣା ...,▁x x b os ▁ହା ମି ଲ ଟନ୍ ▁ଟେଷ୍ଟ ରେ ▁ େ ଓ ୍ <unk> ଷ୍ଟ ଇଣ୍ଡ ିଜ୍ ▁୨ ୪୦ ▁ ର ନ୍ ▁ ରେ ▁ପରାସ୍ତ,▁x x b os ▁ଏହି ▁ବଲିଉଡ୍ ▁ଅଭିନେତ୍ରୀ ଙ୍କ ▁ନାଁ ରେ ▁ରଖାଗଲା ▁ଗଣ୍ଡା ର ▁ନାଁ , ଜା ଣ ନ୍ତୁ ...,▁x x b os ▁ ଗି ଲ୍ ▁କ୍ରିଷ୍ଟ , ▁ବା ଉ ଚର ▁ଓ ▁ସାଙ୍ଗାକାରା ଙ୍କ ▁ପରେ ▁ଚତୁର୍ଥ ▁ଧୋ ନି ▁ <unk> ▁୧୦ , ୦୦୦\n",
       "y: CategoryList\n",
       "business,entertainment,sports,entertainment,sports\n",
       "Path: /home/gaurav/PycharmProjects/nlp-for-odia/classification;\n",
       "\n",
       "Valid: LabelList (3801 items)\n",
       "x: TextList\n",
       "▁x x b os ▁ପୂର୍ବ ାଞ୍ଚଳ ▁ ହ୍ୟାଣ୍ଡ ୍ ▁ବଲ୍ ▁: ▁ଓଡ଼ିଶା କୁ ▁କାଂସ୍ୟ,▁x x b os ▁ବସ୍ ▁ , ▁ଟ୍ରେନ ୍ ▁ଗ ନ୍ତ ବ୍ୟ ▁ସ୍ଥଳ ର ▁ଆଗୁଆ ▁ସୂଚନା ▁ଦେବ ▁ଗୁଗୁଲ ୍ ▁ମ୍ୟା ପ୍,▁x x b os ▁ରି ଭର୍ସ ▁ଗ ିୟ ର ରେ ▁ଚାଲି ବ ▁ସ୍ କୁ ଟର , ▁୨ ▁ଘ ଂ ଟା ▁ଚାର୍ଜ ▁କଲେ ▁ବିନା ▁ପେଟ ୍ରୋଲ ୍ ▁ ରେ ▁ ଯିବ ▁୮୦ ▁କିମି ▁ବାଟ,▁x x b os ▁ବେଲ ଜି ୟମ ▁ଓ ▁କାନାଡା ▁ଦଳରେ ▁ପରିବର୍ତନ,▁x x b os ▁ରୋ ନା ଲ୍ ▁ଡୋ ଙ୍କୁ ▁ପଞ୍ଚମ ▁ଥର ▁ବା ଲ ନ୍ ▁ଡି ’ ଓ ର୍ ▁ସମ୍ମାନ\n",
       "y: CategoryList\n",
       "sports,business,business,sports,sports\n",
       "Path: /home/gaurav/PycharmProjects/nlp-for-odia/classification;\n",
       "\n",
       "Test: None, model=SequentialRNN(\n",
       "  (0): MultiBatchEncoder(\n",
       "    (module): AWD_LSTM(\n",
       "      (encoder): Embedding(15000, 400, padding_idx=1)\n",
       "      (encoder_dp): EmbeddingDropout(\n",
       "        (emb): Embedding(15000, 400, padding_idx=1)\n",
       "      )\n",
       "      (rnns): ModuleList(\n",
       "        (0): WeightDropout(\n",
       "          (module): LSTM(400, 1150, batch_first=True)\n",
       "        )\n",
       "        (1): WeightDropout(\n",
       "          (module): LSTM(1150, 1150, batch_first=True)\n",
       "        )\n",
       "        (2): WeightDropout(\n",
       "          (module): LSTM(1150, 400, batch_first=True)\n",
       "        )\n",
       "      )\n",
       "      (input_dp): RNNDropout()\n",
       "      (hidden_dps): ModuleList(\n",
       "        (0): RNNDropout()\n",
       "        (1): RNNDropout()\n",
       "        (2): RNNDropout()\n",
       "      )\n",
       "    )\n",
       "  )\n",
       "  (1): PoolingLinearClassifier(\n",
       "    (layers): Sequential(\n",
       "      (0): BatchNorm1d(1200, eps=1e-05, momentum=0.1, affine=True, track_running_stats=True)\n",
       "      (1): Dropout(p=0.05)\n",
       "      (2): Linear(in_features=1200, out_features=50, bias=True)\n",
       "      (3): ReLU(inplace)\n",
       "      (4): BatchNorm1d(50, eps=1e-05, momentum=0.1, affine=True, track_running_stats=True)\n",
       "      (5): Dropout(p=0.1)\n",
       "      (6): Linear(in_features=50, out_features=3, bias=True)\n",
       "    )\n",
       "  )\n",
       "), opt_func=functools.partial(<class 'torch.optim.adam.Adam'>, betas=(0.9, 0.99)), loss_func=FlattenedLoss of CrossEntropyLoss(), metrics=[<function accuracy at 0x7f8b9363d4d0>], true_wd=True, bn_wd=True, wd=0.01, train_bn=True, path=PosixPath('/home/gaurav/PycharmProjects/nlp-for-odia/classification'), model_dir='models', callback_fns=[functools.partial(<class 'fastai.basic_train.Recorder'>, add_time=True, silent=False)], callbacks=[RNNTrainer\n",
       "learn: ...\n",
       "alpha: 2.0\n",
       "beta: 1.0], layer_groups=[Sequential(\n",
       "  (0): Embedding(15000, 400, padding_idx=1)\n",
       "  (1): EmbeddingDropout(\n",
       "    (emb): Embedding(15000, 400, padding_idx=1)\n",
       "  )\n",
       "), Sequential(\n",
       "  (0): WeightDropout(\n",
       "    (module): LSTM(400, 1150, batch_first=True)\n",
       "  )\n",
       "  (1): RNNDropout()\n",
       "), Sequential(\n",
       "  (0): WeightDropout(\n",
       "    (module): LSTM(1150, 1150, batch_first=True)\n",
       "  )\n",
       "  (1): RNNDropout()\n",
       "), Sequential(\n",
       "  (0): WeightDropout(\n",
       "    (module): LSTM(1150, 400, batch_first=True)\n",
       "  )\n",
       "  (1): RNNDropout()\n",
       "), Sequential(\n",
       "  (0): PoolingLinearClassifier(\n",
       "    (layers): Sequential(\n",
       "      (0): BatchNorm1d(1200, eps=1e-05, momentum=0.1, affine=True, track_running_stats=True)\n",
       "      (1): Dropout(p=0.05)\n",
       "      (2): Linear(in_features=1200, out_features=50, bias=True)\n",
       "      (3): ReLU(inplace)\n",
       "      (4): BatchNorm1d(50, eps=1e-05, momentum=0.1, affine=True, track_running_stats=True)\n",
       "      (5): Dropout(p=0.1)\n",
       "      (6): Linear(in_features=50, out_features=3, bias=True)\n",
       "    )\n",
       "  )\n",
       ")], add_time=True, silent=False, cb_fns_registered=False)"
      ]
     },
     "execution_count": 40,
     "metadata": {},
     "output_type": "execute_result"
    }
   ],
   "source": [
    "learn.load_encoder('fine_tuned_enc')"
   ]
  },
  {
   "cell_type": "code",
   "execution_count": 41,
   "metadata": {},
   "outputs": [],
   "source": [
    "learn.freeze()"
   ]
  },
  {
   "cell_type": "code",
   "execution_count": 42,
   "metadata": {},
   "outputs": [
    {
     "data": {
      "text/html": [],
      "text/plain": [
       "<IPython.core.display.HTML object>"
      ]
     },
     "metadata": {},
     "output_type": "display_data"
    },
    {
     "name": "stdout",
     "output_type": "stream",
     "text": [
      "LR Finder is complete, type {learner_name}.recorder.plot() to see the graph.\n"
     ]
    }
   ],
   "source": [
    "learn.lr_find()"
   ]
  },
  {
   "cell_type": "code",
   "execution_count": 43,
   "metadata": {},
   "outputs": [
    {
     "data": {
      "image/png": "[encoded data removed]",
      "text/plain": [
       "<Figure size 432x288 with 1 Axes>"
      ]
     },
     "metadata": {
      "needs_background": "light"
     },
     "output_type": "display_data"
    }
   ],
   "source": [
    "learn.recorder.plot()"
   ]
  },
  {
   "cell_type": "code",
   "execution_count": 44,
   "metadata": {},
   "outputs": [
    {
     "data": {
      "text/plain": [
       "CrossEntropyLoss()"
      ]
     },
     "execution_count": 44,
     "metadata": {},
     "output_type": "execute_result"
    }
   ],
   "source": [
    "learn.loss_func.func"
   ]
  },
  {
   "cell_type": "code",
   "execution_count": 45,
   "metadata": {},
   "outputs": [],
   "source": [
    "kappa = KappaScore()"
   ]
  },
  {
   "cell_type": "code",
   "execution_count": 46,
   "metadata": {},
   "outputs": [],
   "source": [
    "learn.metrics = [kappa, accuracy]"
   ]
  },
  {
   "cell_type": "code",
   "execution_count": 47,
   "metadata": {},
   "outputs": [
    {
     "data": {
      "text/html": [
       "<table border=\"1\" class=\"dataframe\">\n",
       "  <thead>\n",
       "    <tr style=\"text-align: left;\">\n",
       "      <th>epoch</th>\n",
       "      <th>train_loss</th>\n",
       "      <th>valid_loss</th>\n",
       "      <th>kappa_score</th>\n",
       "      <th>accuracy</th>\n",
       "      <th>time</th>\n",
       "    </tr>\n",
       "  </thead>\n",
       "  <tbody>\n",
       "    <tr>\n",
       "      <td>0</td>\n",
       "      <td>0.343443</td>\n",
       "      <td>0.272054</td>\n",
       "      <td>0.843857</td>\n",
       "      <td>0.900026</td>\n",
       "      <td>00:15</td>\n",
       "    </tr>\n",
       "  </tbody>\n",
       "</table>"
      ],
      "text/plain": [
       "<IPython.core.display.HTML object>"
      ]
     },
     "metadata": {},
     "output_type": "display_data"
    }
   ],
   "source": [
    "learn.fit_one_cycle(1, 1e-2)"
   ]
  },
  {
   "cell_type": "code",
   "execution_count": 48,
   "metadata": {},
   "outputs": [
    {
     "data": {
      "text/html": [
       "<table border=\"1\" class=\"dataframe\">\n",
       "  <thead>\n",
       "    <tr style=\"text-align: left;\">\n",
       "      <th>epoch</th>\n",
       "      <th>train_loss</th>\n",
       "      <th>valid_loss</th>\n",
       "      <th>kappa_score</th>\n",
       "      <th>accuracy</th>\n",
       "      <th>time</th>\n",
       "    </tr>\n",
       "  </thead>\n",
       "  <tbody>\n",
       "    <tr>\n",
       "      <td>0</td>\n",
       "      <td>0.242218</td>\n",
       "      <td>0.229564</td>\n",
       "      <td>0.895494</td>\n",
       "      <td>0.932912</td>\n",
       "      <td>00:16</td>\n",
       "    </tr>\n",
       "  </tbody>\n",
       "</table>"
      ],
      "text/plain": [
       "<IPython.core.display.HTML object>"
      ]
     },
     "metadata": {},
     "output_type": "display_data"
    }
   ],
   "source": [
    "learn.freeze_to(-2)\n",
    "learn.fit_one_cycle(1, 1e-2)"
   ]
  },
  {
   "cell_type": "code",
   "execution_count": 49,
   "metadata": {},
   "outputs": [],
   "source": [
    "learn.save('second-full')"
   ]
  },
  {
   "cell_type": "code",
   "execution_count": 50,
   "metadata": {},
   "outputs": [
    {
     "data": {
      "text/html": [
       "<table border=\"1\" class=\"dataframe\">\n",
       "  <thead>\n",
       "    <tr style=\"text-align: left;\">\n",
       "      <th>epoch</th>\n",
       "      <th>train_loss</th>\n",
       "      <th>valid_loss</th>\n",
       "      <th>kappa_score</th>\n",
       "      <th>accuracy</th>\n",
       "      <th>time</th>\n",
       "    </tr>\n",
       "  </thead>\n",
       "  <tbody>\n",
       "    <tr>\n",
       "      <td>0</td>\n",
       "      <td>0.148600</td>\n",
       "      <td>0.153994</td>\n",
       "      <td>0.910142</td>\n",
       "      <td>0.942384</td>\n",
       "      <td>00:28</td>\n",
       "    </tr>\n",
       "    <tr>\n",
       "      <td>1</td>\n",
       "      <td>0.145860</td>\n",
       "      <td>0.150590</td>\n",
       "      <td>0.918813</td>\n",
       "      <td>0.947645</td>\n",
       "      <td>00:28</td>\n",
       "    </tr>\n",
       "    <tr>\n",
       "      <td>2</td>\n",
       "      <td>0.066473</td>\n",
       "      <td>0.141598</td>\n",
       "      <td>0.930254</td>\n",
       "      <td>0.955275</td>\n",
       "      <td>00:28</td>\n",
       "    </tr>\n",
       "    <tr>\n",
       "      <td>3</td>\n",
       "      <td>0.062254</td>\n",
       "      <td>0.144377</td>\n",
       "      <td>0.927868</td>\n",
       "      <td>0.953696</td>\n",
       "      <td>00:28</td>\n",
       "    </tr>\n",
       "    <tr>\n",
       "      <td>4</td>\n",
       "      <td>0.030689</td>\n",
       "      <td>0.137770</td>\n",
       "      <td>0.929230</td>\n",
       "      <td>0.954486</td>\n",
       "      <td>00:28</td>\n",
       "    </tr>\n",
       "  </tbody>\n",
       "</table>"
      ],
      "text/plain": [
       "<IPython.core.display.HTML object>"
      ]
     },
     "metadata": {},
     "output_type": "display_data"
    },
    {
     "name": "stdout",
     "output_type": "stream",
     "text": [
      "Better model found at epoch 0 with accuracy value: 0.9423835873603821.\n",
      "Better model found at epoch 1 with accuracy value: 0.947645366191864.\n",
      "Better model found at epoch 2 with accuracy value: 0.9552749395370483.\n"
     ]
    }
   ],
   "source": [
    "learn.unfreeze()\n",
    "learn.fit_one_cycle(5, 1e-3, callbacks=[callbacks.SaveModelCallback(learn, every='improvement', monitor='accuracy', name='final')])"
   ]
  },
  {
   "cell_type": "code",
   "execution_count": 51,
   "metadata": {},
   "outputs": [
    {
     "data": {
      "text/plain": [
       "(Category entertainment,\n",
       " tensor(1),\n",
       " tensor([2.8126e-04, 9.6329e-01, 3.6427e-02]))"
      ]
     },
     "execution_count": 51,
     "metadata": {},
     "output_type": "execute_result"
    }
   ],
   "source": [
    "learn.predict('ମୁମ୍ବାଇ : ଗତବର୍ଷ ବିବାହ ବନ୍ଧନରେ ବାନ୍ଧି ହୋଇଥିଲେ ବଲିଉଡ୍‌ର ଦେଶୀଗର୍ଲ ପ୍ରିୟଙ୍କା ଚୋପ୍ରା ଏବଂ ତାଙ୍କ ପ୍ରେମିକ ନିକ୍‌ ଜୋନ୍‌ସ ।')"
   ]
  },
  {
   "cell_type": "code",
   "execution_count": 52,
   "metadata": {},
   "outputs": [
    {
     "data": {
      "text/plain": [
       "(Category entertainment,\n",
       " tensor(1),\n",
       " tensor([8.2729e-04, 8.4465e-01, 1.5452e-01]))"
      ]
     },
     "execution_count": 52,
     "metadata": {},
     "output_type": "execute_result"
    }
   ],
   "source": [
    "learn.predict(\"ମୁମ୍ବାଇ : ବଲିଉଡ୍‌ର ଦବଙ୍ଗ ଷ୍ଟାର ସଲମାନ ଖାନ୍‌ କେବଳ ନିଜ ଫିଲ୍ମ ପାଇଁ ନୁହନ୍ତି, ଲୋକମାନଙ୍କୁ ସାହାଯ୍ୟ କରିବାକୁ ନେଇ ମଧ୍ୟ\")"
   ]
  },
  {
   "cell_type": "code",
   "execution_count": 53,
   "metadata": {},
   "outputs": [
    {
     "data": {
      "text/plain": [
       "(Category business, tensor(0), tensor([9.9733e-01, 2.9930e-16, 2.6665e-03]))"
      ]
     },
     "execution_count": 53,
     "metadata": {},
     "output_type": "execute_result"
    }
   ],
   "source": [
    "learn.predict(\"ଆଗାମୀ ଦିନରେ ବୋଇଂ ୭୩୭ ମ୍ୟାକ୍ସ ୮ ବିମାନ ଅନେକ କମ୍ପାନି ଉଡ଼ାଣ କରୁଥିବାରୁ ସରକାର ଓ ବେସାମରିକ ବିମାନ ଚଳାଚଳ ମହାନିର୍ଦ୍ଦେଶାଳୟ\")"
   ]
  },
  {
   "cell_type": "code",
   "execution_count": 54,
   "metadata": {},
   "outputs": [
    {
     "data": {
      "text/plain": [
       "(Category business, tensor(0), tensor([0.9935, 0.0011, 0.0054]))"
      ]
     },
     "execution_count": 54,
     "metadata": {},
     "output_type": "execute_result"
    }
   ],
   "source": [
    "learn.predict(\"ଦୁଇଦିନ ପାଇଁ ଆୟୋଜନ କରାଯାଇଛି। ହରି ଓମ୍ ଭବନରେ ଅନୁଷ୍ଠିତ ଏହି ଏକ୍ସପୋରେ ଗ୍ରାହକଙ୍କ ପାଇଁ ପୁରୁଣା କାର୍ ବଦଳାଇ ନୂଆ କରା କିଣିବା \")"
   ]
  },
  {
   "cell_type": "code",
   "execution_count": 55,
   "metadata": {},
   "outputs": [
    {
     "data": {
      "text/plain": [
       "(Category sports, tensor(2), tensor([7.7176e-05, 5.7220e-07, 9.9992e-01]))"
      ]
     },
     "execution_count": 55,
     "metadata": {},
     "output_type": "execute_result"
    }
   ],
   "source": [
    "learn.predict(\"ତିରୁବନ୍ତପୁରମ୍‌: କେରଳରେ ଆୟୋଜିତ ଚତୁଃକୋଣୀୟ ୧୯ ବର୍ଷରୁ କମ୍‌ କ୍ରିକେଟ୍‌ ଶୃଙ୍ଖଳାରେ ଅପରାଜେୟ ଭାରତ-ବି ଦଳ ବିଜେତା ଆଖ୍ୟା ହାସଲ \")"
   ]
  },
  {
   "cell_type": "code",
   "execution_count": null,
   "metadata": {},
   "outputs": [],
   "source": []
  }
 ],
 "metadata": {
  "kernelspec": {
   "display_name": "Python 3",
   "language": "python",
   "name": "python3"
  },
  "language_info": {
   "codemirror_mode": {
    "name": "ipython",
    "version": 3
   },
   "file_extension": ".py",
   "mimetype": "text/x-python",
   "name": "python",
   "nbconvert_exporter": "python",
   "pygments_lexer": "ipython3",
   "version": "3.7.4"
  }
 },
 "nbformat": 4,
 "nbformat_minor": 2
}
